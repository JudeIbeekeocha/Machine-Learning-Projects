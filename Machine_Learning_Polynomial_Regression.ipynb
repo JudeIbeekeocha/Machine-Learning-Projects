{
  "nbformat": 4,
  "nbformat_minor": 0,
  "metadata": {
    "colab": {
      "provenance": []
    },
    "kernelspec": {
      "name": "python3",
      "display_name": "Python 3"
    },
    "language_info": {
      "name": "python"
    }
  },
  "cells": [
    {
      "cell_type": "markdown",
      "source": [
        "#Objective: Use a Polynomial Linear Regression Model to capture the closing price movemnet of a given stock.\n",
        "\n",
        "I am using a polynomial regression function to fit/track the adjusted closing price of NVDIA stock"
      ],
      "metadata": {
        "id": "ppgvBAFm1Rro"
      }
    },
    {
      "cell_type": "code",
      "execution_count": 79,
      "metadata": {
        "id": "9zpWZ4KIzOLd"
      },
      "outputs": [],
      "source": [
        "import pandas as pd\n",
        "import numpy as np\n",
        "import yfinance as yf\n",
        "import matplotlib.pyplot as plt\n",
        "import plotly.express as px\n",
        "\n",
        "from sklearn.linear_model import LinearRegression\n",
        "from sklearn.preprocessing import PolynomialFeatures"
      ]
    },
    {
      "cell_type": "code",
      "source": [
        "from IPython import display\n",
        "display.set_matplotlib_formats('svg') # Improve matplotlib visual quality"
      ],
      "metadata": {
        "colab": {
          "base_uri": "https://localhost:8080/"
        },
        "id": "Bsmrxz2J5I5e",
        "outputId": "3fedc0d7-6268-40c1-f888-770f143aa215"
      },
      "execution_count": 80,
      "outputs": [
        {
          "output_type": "stream",
          "name": "stderr",
          "text": [
            "<ipython-input-80-dcd5f3b50b37>:2: DeprecationWarning:\n",
            "\n",
            "`set_matplotlib_formats` is deprecated since IPython 7.23, directly use `matplotlib_inline.backend_inline.set_matplotlib_formats()`\n",
            "\n"
          ]
        }
      ]
    },
    {
      "cell_type": "markdown",
      "source": [
        "##Import Dataset"
      ],
      "metadata": {
        "id": "HkT8oXVz5Wba"
      }
    },
    {
      "cell_type": "code",
      "source": [
        "stock = 'NVDA'\n",
        "stock_data = yf.download(stock, period ='10y')\n",
        "stock_data"
      ],
      "metadata": {
        "colab": {
          "base_uri": "https://localhost:8080/",
          "height": 473
        },
        "id": "2t03OK0g5Qfe",
        "outputId": "4d71c392-6c84-4f58-ecd6-dc67ea001c85"
      },
      "execution_count": 81,
      "outputs": [
        {
          "output_type": "stream",
          "name": "stderr",
          "text": [
            "\r[*********************100%%**********************]  1 of 1 completed\n"
          ]
        },
        {
          "output_type": "execute_result",
          "data": {
            "text/plain": [
              "                  Open        High         Low       Close   Adj Close  \\\n",
              "Date                                                                     \n",
              "2014-07-03    0.462750    0.472500    0.462750    0.471250    0.448601   \n",
              "2014-07-07    0.472000    0.472250    0.466750    0.467500    0.445031   \n",
              "2014-07-08    0.466250    0.468250    0.459250    0.463750    0.441461   \n",
              "2014-07-09    0.467750    0.479750    0.464250    0.477750    0.454788   \n",
              "2014-07-10    0.468750    0.477250    0.465000    0.475250    0.452408   \n",
              "...                ...         ...         ...         ...         ...   \n",
              "2024-06-26  126.129997  128.119995  122.599998  126.400002  126.400002   \n",
              "2024-06-27  124.099998  126.410004  122.919998  123.989998  123.989998   \n",
              "2024-06-28  124.580002  127.709999  122.750000  123.540001  123.540001   \n",
              "2024-07-01  123.470001  124.839996  118.830002  124.300003  124.300003   \n",
              "2024-07-02  121.129997  123.410004  121.029999  122.669998  122.669998   \n",
              "\n",
              "               Volume  \n",
              "Date                   \n",
              "2014-07-03  136892000  \n",
              "2014-07-07  127496000  \n",
              "2014-07-08  221940000  \n",
              "2014-07-09  387668000  \n",
              "2014-07-10  266308000  \n",
              "...               ...  \n",
              "2024-06-26  362975900  \n",
              "2024-06-27  252571700  \n",
              "2024-06-28  315516700  \n",
              "2024-07-01  284885500  \n",
              "2024-07-02  217700200  \n",
              "\n",
              "[2516 rows x 6 columns]"
            ],
            "text/html": [
              "\n",
              "  <div id=\"df-fe758fc9-c5b6-42cd-a5c8-7153ff1333c3\" class=\"colab-df-container\">\n",
              "    <div>\n",
              "<style scoped>\n",
              "    .dataframe tbody tr th:only-of-type {\n",
              "        vertical-align: middle;\n",
              "    }\n",
              "\n",
              "    .dataframe tbody tr th {\n",
              "        vertical-align: top;\n",
              "    }\n",
              "\n",
              "    .dataframe thead th {\n",
              "        text-align: right;\n",
              "    }\n",
              "</style>\n",
              "<table border=\"1\" class=\"dataframe\">\n",
              "  <thead>\n",
              "    <tr style=\"text-align: right;\">\n",
              "      <th></th>\n",
              "      <th>Open</th>\n",
              "      <th>High</th>\n",
              "      <th>Low</th>\n",
              "      <th>Close</th>\n",
              "      <th>Adj Close</th>\n",
              "      <th>Volume</th>\n",
              "    </tr>\n",
              "    <tr>\n",
              "      <th>Date</th>\n",
              "      <th></th>\n",
              "      <th></th>\n",
              "      <th></th>\n",
              "      <th></th>\n",
              "      <th></th>\n",
              "      <th></th>\n",
              "    </tr>\n",
              "  </thead>\n",
              "  <tbody>\n",
              "    <tr>\n",
              "      <th>2014-07-03</th>\n",
              "      <td>0.462750</td>\n",
              "      <td>0.472500</td>\n",
              "      <td>0.462750</td>\n",
              "      <td>0.471250</td>\n",
              "      <td>0.448601</td>\n",
              "      <td>136892000</td>\n",
              "    </tr>\n",
              "    <tr>\n",
              "      <th>2014-07-07</th>\n",
              "      <td>0.472000</td>\n",
              "      <td>0.472250</td>\n",
              "      <td>0.466750</td>\n",
              "      <td>0.467500</td>\n",
              "      <td>0.445031</td>\n",
              "      <td>127496000</td>\n",
              "    </tr>\n",
              "    <tr>\n",
              "      <th>2014-07-08</th>\n",
              "      <td>0.466250</td>\n",
              "      <td>0.468250</td>\n",
              "      <td>0.459250</td>\n",
              "      <td>0.463750</td>\n",
              "      <td>0.441461</td>\n",
              "      <td>221940000</td>\n",
              "    </tr>\n",
              "    <tr>\n",
              "      <th>2014-07-09</th>\n",
              "      <td>0.467750</td>\n",
              "      <td>0.479750</td>\n",
              "      <td>0.464250</td>\n",
              "      <td>0.477750</td>\n",
              "      <td>0.454788</td>\n",
              "      <td>387668000</td>\n",
              "    </tr>\n",
              "    <tr>\n",
              "      <th>2014-07-10</th>\n",
              "      <td>0.468750</td>\n",
              "      <td>0.477250</td>\n",
              "      <td>0.465000</td>\n",
              "      <td>0.475250</td>\n",
              "      <td>0.452408</td>\n",
              "      <td>266308000</td>\n",
              "    </tr>\n",
              "    <tr>\n",
              "      <th>...</th>\n",
              "      <td>...</td>\n",
              "      <td>...</td>\n",
              "      <td>...</td>\n",
              "      <td>...</td>\n",
              "      <td>...</td>\n",
              "      <td>...</td>\n",
              "    </tr>\n",
              "    <tr>\n",
              "      <th>2024-06-26</th>\n",
              "      <td>126.129997</td>\n",
              "      <td>128.119995</td>\n",
              "      <td>122.599998</td>\n",
              "      <td>126.400002</td>\n",
              "      <td>126.400002</td>\n",
              "      <td>362975900</td>\n",
              "    </tr>\n",
              "    <tr>\n",
              "      <th>2024-06-27</th>\n",
              "      <td>124.099998</td>\n",
              "      <td>126.410004</td>\n",
              "      <td>122.919998</td>\n",
              "      <td>123.989998</td>\n",
              "      <td>123.989998</td>\n",
              "      <td>252571700</td>\n",
              "    </tr>\n",
              "    <tr>\n",
              "      <th>2024-06-28</th>\n",
              "      <td>124.580002</td>\n",
              "      <td>127.709999</td>\n",
              "      <td>122.750000</td>\n",
              "      <td>123.540001</td>\n",
              "      <td>123.540001</td>\n",
              "      <td>315516700</td>\n",
              "    </tr>\n",
              "    <tr>\n",
              "      <th>2024-07-01</th>\n",
              "      <td>123.470001</td>\n",
              "      <td>124.839996</td>\n",
              "      <td>118.830002</td>\n",
              "      <td>124.300003</td>\n",
              "      <td>124.300003</td>\n",
              "      <td>284885500</td>\n",
              "    </tr>\n",
              "    <tr>\n",
              "      <th>2024-07-02</th>\n",
              "      <td>121.129997</td>\n",
              "      <td>123.410004</td>\n",
              "      <td>121.029999</td>\n",
              "      <td>122.669998</td>\n",
              "      <td>122.669998</td>\n",
              "      <td>217700200</td>\n",
              "    </tr>\n",
              "  </tbody>\n",
              "</table>\n",
              "<p>2516 rows × 6 columns</p>\n",
              "</div>\n",
              "    <div class=\"colab-df-buttons\">\n",
              "\n",
              "  <div class=\"colab-df-container\">\n",
              "    <button class=\"colab-df-convert\" onclick=\"convertToInteractive('df-fe758fc9-c5b6-42cd-a5c8-7153ff1333c3')\"\n",
              "            title=\"Convert this dataframe to an interactive table.\"\n",
              "            style=\"display:none;\">\n",
              "\n",
              "  <svg xmlns=\"http://www.w3.org/2000/svg\" height=\"24px\" viewBox=\"0 -960 960 960\">\n",
              "    <path d=\"M120-120v-720h720v720H120Zm60-500h600v-160H180v160Zm220 220h160v-160H400v160Zm0 220h160v-160H400v160ZM180-400h160v-160H180v160Zm440 0h160v-160H620v160ZM180-180h160v-160H180v160Zm440 0h160v-160H620v160Z\"/>\n",
              "  </svg>\n",
              "    </button>\n",
              "\n",
              "  <style>\n",
              "    .colab-df-container {\n",
              "      display:flex;\n",
              "      gap: 12px;\n",
              "    }\n",
              "\n",
              "    .colab-df-convert {\n",
              "      background-color: #E8F0FE;\n",
              "      border: none;\n",
              "      border-radius: 50%;\n",
              "      cursor: pointer;\n",
              "      display: none;\n",
              "      fill: #1967D2;\n",
              "      height: 32px;\n",
              "      padding: 0 0 0 0;\n",
              "      width: 32px;\n",
              "    }\n",
              "\n",
              "    .colab-df-convert:hover {\n",
              "      background-color: #E2EBFA;\n",
              "      box-shadow: 0px 1px 2px rgba(60, 64, 67, 0.3), 0px 1px 3px 1px rgba(60, 64, 67, 0.15);\n",
              "      fill: #174EA6;\n",
              "    }\n",
              "\n",
              "    .colab-df-buttons div {\n",
              "      margin-bottom: 4px;\n",
              "    }\n",
              "\n",
              "    [theme=dark] .colab-df-convert {\n",
              "      background-color: #3B4455;\n",
              "      fill: #D2E3FC;\n",
              "    }\n",
              "\n",
              "    [theme=dark] .colab-df-convert:hover {\n",
              "      background-color: #434B5C;\n",
              "      box-shadow: 0px 1px 3px 1px rgba(0, 0, 0, 0.15);\n",
              "      filter: drop-shadow(0px 1px 2px rgba(0, 0, 0, 0.3));\n",
              "      fill: #FFFFFF;\n",
              "    }\n",
              "  </style>\n",
              "\n",
              "    <script>\n",
              "      const buttonEl =\n",
              "        document.querySelector('#df-fe758fc9-c5b6-42cd-a5c8-7153ff1333c3 button.colab-df-convert');\n",
              "      buttonEl.style.display =\n",
              "        google.colab.kernel.accessAllowed ? 'block' : 'none';\n",
              "\n",
              "      async function convertToInteractive(key) {\n",
              "        const element = document.querySelector('#df-fe758fc9-c5b6-42cd-a5c8-7153ff1333c3');\n",
              "        const dataTable =\n",
              "          await google.colab.kernel.invokeFunction('convertToInteractive',\n",
              "                                                    [key], {});\n",
              "        if (!dataTable) return;\n",
              "\n",
              "        const docLinkHtml = 'Like what you see? Visit the ' +\n",
              "          '<a target=\"_blank\" href=https://colab.research.google.com/notebooks/data_table.ipynb>data table notebook</a>'\n",
              "          + ' to learn more about interactive tables.';\n",
              "        element.innerHTML = '';\n",
              "        dataTable['output_type'] = 'display_data';\n",
              "        await google.colab.output.renderOutput(dataTable, element);\n",
              "        const docLink = document.createElement('div');\n",
              "        docLink.innerHTML = docLinkHtml;\n",
              "        element.appendChild(docLink);\n",
              "      }\n",
              "    </script>\n",
              "  </div>\n",
              "\n",
              "\n",
              "<div id=\"df-2c6122bc-c34e-4bce-a861-aeef7209251c\">\n",
              "  <button class=\"colab-df-quickchart\" onclick=\"quickchart('df-2c6122bc-c34e-4bce-a861-aeef7209251c')\"\n",
              "            title=\"Suggest charts\"\n",
              "            style=\"display:none;\">\n",
              "\n",
              "<svg xmlns=\"http://www.w3.org/2000/svg\" height=\"24px\"viewBox=\"0 0 24 24\"\n",
              "     width=\"24px\">\n",
              "    <g>\n",
              "        <path d=\"M19 3H5c-1.1 0-2 .9-2 2v14c0 1.1.9 2 2 2h14c1.1 0 2-.9 2-2V5c0-1.1-.9-2-2-2zM9 17H7v-7h2v7zm4 0h-2V7h2v10zm4 0h-2v-4h2v4z\"/>\n",
              "    </g>\n",
              "</svg>\n",
              "  </button>\n",
              "\n",
              "<style>\n",
              "  .colab-df-quickchart {\n",
              "      --bg-color: #E8F0FE;\n",
              "      --fill-color: #1967D2;\n",
              "      --hover-bg-color: #E2EBFA;\n",
              "      --hover-fill-color: #174EA6;\n",
              "      --disabled-fill-color: #AAA;\n",
              "      --disabled-bg-color: #DDD;\n",
              "  }\n",
              "\n",
              "  [theme=dark] .colab-df-quickchart {\n",
              "      --bg-color: #3B4455;\n",
              "      --fill-color: #D2E3FC;\n",
              "      --hover-bg-color: #434B5C;\n",
              "      --hover-fill-color: #FFFFFF;\n",
              "      --disabled-bg-color: #3B4455;\n",
              "      --disabled-fill-color: #666;\n",
              "  }\n",
              "\n",
              "  .colab-df-quickchart {\n",
              "    background-color: var(--bg-color);\n",
              "    border: none;\n",
              "    border-radius: 50%;\n",
              "    cursor: pointer;\n",
              "    display: none;\n",
              "    fill: var(--fill-color);\n",
              "    height: 32px;\n",
              "    padding: 0;\n",
              "    width: 32px;\n",
              "  }\n",
              "\n",
              "  .colab-df-quickchart:hover {\n",
              "    background-color: var(--hover-bg-color);\n",
              "    box-shadow: 0 1px 2px rgba(60, 64, 67, 0.3), 0 1px 3px 1px rgba(60, 64, 67, 0.15);\n",
              "    fill: var(--button-hover-fill-color);\n",
              "  }\n",
              "\n",
              "  .colab-df-quickchart-complete:disabled,\n",
              "  .colab-df-quickchart-complete:disabled:hover {\n",
              "    background-color: var(--disabled-bg-color);\n",
              "    fill: var(--disabled-fill-color);\n",
              "    box-shadow: none;\n",
              "  }\n",
              "\n",
              "  .colab-df-spinner {\n",
              "    border: 2px solid var(--fill-color);\n",
              "    border-color: transparent;\n",
              "    border-bottom-color: var(--fill-color);\n",
              "    animation:\n",
              "      spin 1s steps(1) infinite;\n",
              "  }\n",
              "\n",
              "  @keyframes spin {\n",
              "    0% {\n",
              "      border-color: transparent;\n",
              "      border-bottom-color: var(--fill-color);\n",
              "      border-left-color: var(--fill-color);\n",
              "    }\n",
              "    20% {\n",
              "      border-color: transparent;\n",
              "      border-left-color: var(--fill-color);\n",
              "      border-top-color: var(--fill-color);\n",
              "    }\n",
              "    30% {\n",
              "      border-color: transparent;\n",
              "      border-left-color: var(--fill-color);\n",
              "      border-top-color: var(--fill-color);\n",
              "      border-right-color: var(--fill-color);\n",
              "    }\n",
              "    40% {\n",
              "      border-color: transparent;\n",
              "      border-right-color: var(--fill-color);\n",
              "      border-top-color: var(--fill-color);\n",
              "    }\n",
              "    60% {\n",
              "      border-color: transparent;\n",
              "      border-right-color: var(--fill-color);\n",
              "    }\n",
              "    80% {\n",
              "      border-color: transparent;\n",
              "      border-right-color: var(--fill-color);\n",
              "      border-bottom-color: var(--fill-color);\n",
              "    }\n",
              "    90% {\n",
              "      border-color: transparent;\n",
              "      border-bottom-color: var(--fill-color);\n",
              "    }\n",
              "  }\n",
              "</style>\n",
              "\n",
              "  <script>\n",
              "    async function quickchart(key) {\n",
              "      const quickchartButtonEl =\n",
              "        document.querySelector('#' + key + ' button');\n",
              "      quickchartButtonEl.disabled = true;  // To prevent multiple clicks.\n",
              "      quickchartButtonEl.classList.add('colab-df-spinner');\n",
              "      try {\n",
              "        const charts = await google.colab.kernel.invokeFunction(\n",
              "            'suggestCharts', [key], {});\n",
              "      } catch (error) {\n",
              "        console.error('Error during call to suggestCharts:', error);\n",
              "      }\n",
              "      quickchartButtonEl.classList.remove('colab-df-spinner');\n",
              "      quickchartButtonEl.classList.add('colab-df-quickchart-complete');\n",
              "    }\n",
              "    (() => {\n",
              "      let quickchartButtonEl =\n",
              "        document.querySelector('#df-2c6122bc-c34e-4bce-a861-aeef7209251c button');\n",
              "      quickchartButtonEl.style.display =\n",
              "        google.colab.kernel.accessAllowed ? 'block' : 'none';\n",
              "    })();\n",
              "  </script>\n",
              "</div>\n",
              "\n",
              "  <div id=\"id_dbd8d2e8-3169-4ca0-a479-76669eab10ae\">\n",
              "    <style>\n",
              "      .colab-df-generate {\n",
              "        background-color: #E8F0FE;\n",
              "        border: none;\n",
              "        border-radius: 50%;\n",
              "        cursor: pointer;\n",
              "        display: none;\n",
              "        fill: #1967D2;\n",
              "        height: 32px;\n",
              "        padding: 0 0 0 0;\n",
              "        width: 32px;\n",
              "      }\n",
              "\n",
              "      .colab-df-generate:hover {\n",
              "        background-color: #E2EBFA;\n",
              "        box-shadow: 0px 1px 2px rgba(60, 64, 67, 0.3), 0px 1px 3px 1px rgba(60, 64, 67, 0.15);\n",
              "        fill: #174EA6;\n",
              "      }\n",
              "\n",
              "      [theme=dark] .colab-df-generate {\n",
              "        background-color: #3B4455;\n",
              "        fill: #D2E3FC;\n",
              "      }\n",
              "\n",
              "      [theme=dark] .colab-df-generate:hover {\n",
              "        background-color: #434B5C;\n",
              "        box-shadow: 0px 1px 3px 1px rgba(0, 0, 0, 0.15);\n",
              "        filter: drop-shadow(0px 1px 2px rgba(0, 0, 0, 0.3));\n",
              "        fill: #FFFFFF;\n",
              "      }\n",
              "    </style>\n",
              "    <button class=\"colab-df-generate\" onclick=\"generateWithVariable('stock_data')\"\n",
              "            title=\"Generate code using this dataframe.\"\n",
              "            style=\"display:none;\">\n",
              "\n",
              "  <svg xmlns=\"http://www.w3.org/2000/svg\" height=\"24px\"viewBox=\"0 0 24 24\"\n",
              "       width=\"24px\">\n",
              "    <path d=\"M7,19H8.4L18.45,9,17,7.55,7,17.6ZM5,21V16.75L18.45,3.32a2,2,0,0,1,2.83,0l1.4,1.43a1.91,1.91,0,0,1,.58,1.4,1.91,1.91,0,0,1-.58,1.4L9.25,21ZM18.45,9,17,7.55Zm-12,3A5.31,5.31,0,0,0,4.9,8.1,5.31,5.31,0,0,0,1,6.5,5.31,5.31,0,0,0,4.9,4.9,5.31,5.31,0,0,0,6.5,1,5.31,5.31,0,0,0,8.1,4.9,5.31,5.31,0,0,0,12,6.5,5.46,5.46,0,0,0,6.5,12Z\"/>\n",
              "  </svg>\n",
              "    </button>\n",
              "    <script>\n",
              "      (() => {\n",
              "      const buttonEl =\n",
              "        document.querySelector('#id_dbd8d2e8-3169-4ca0-a479-76669eab10ae button.colab-df-generate');\n",
              "      buttonEl.style.display =\n",
              "        google.colab.kernel.accessAllowed ? 'block' : 'none';\n",
              "\n",
              "      buttonEl.onclick = () => {\n",
              "        google.colab.notebook.generateWithVariable('stock_data');\n",
              "      }\n",
              "      })();\n",
              "    </script>\n",
              "  </div>\n",
              "\n",
              "    </div>\n",
              "  </div>\n"
            ],
            "application/vnd.google.colaboratory.intrinsic+json": {
              "type": "dataframe",
              "variable_name": "stock_data",
              "summary": "{\n  \"name\": \"stock_data\",\n  \"rows\": 2516,\n  \"fields\": [\n    {\n      \"column\": \"Date\",\n      \"properties\": {\n        \"dtype\": \"date\",\n        \"min\": \"2014-07-03 00:00:00\",\n        \"max\": \"2024-07-02 00:00:00\",\n        \"num_unique_values\": 2516,\n        \"samples\": [\n          \"2016-12-13 00:00:00\",\n          \"2018-03-09 00:00:00\",\n          \"2018-04-02 00:00:00\"\n        ],\n        \"semantic_type\": \"\",\n        \"description\": \"\"\n      }\n    },\n    {\n      \"column\": \"Open\",\n      \"properties\": {\n        \"dtype\": \"number\",\n        \"std\": 20.96699425082207,\n        \"min\": 0.4232499897480011,\n        \"max\": 139.8000030517578,\n        \"num_unique_values\": 2371,\n        \"samples\": [\n          6.059999942779541,\n          17.571250915527344,\n          0.5090000033378601\n        ],\n        \"semantic_type\": \"\",\n        \"description\": \"\"\n      }\n    },\n    {\n      \"column\": \"High\",\n      \"properties\": {\n        \"dtype\": \"number\",\n        \"std\": 21.348311656681457,\n        \"min\": 0.4325000047683716,\n        \"max\": 140.75999450683594,\n        \"num_unique_values\": 2382,\n        \"samples\": [\n          43.935001373291016,\n          6.229249954223633,\n          3.5802500247955322\n        ],\n        \"semantic_type\": \"\",\n        \"description\": \"\"\n      }\n    },\n    {\n      \"column\": \"Low\",\n      \"properties\": {\n        \"dtype\": \"number\",\n        \"std\": 20.539343195938343,\n        \"min\": 0.4192500114440918,\n        \"max\": 130.69000244140625,\n        \"num_unique_values\": 2391,\n        \"samples\": [\n          4.040249824523926,\n          0.5425000190734863,\n          76.4000015258789\n        ],\n        \"semantic_type\": \"\",\n        \"description\": \"\"\n      }\n    },\n    {\n      \"column\": \"Close\",\n      \"properties\": {\n        \"dtype\": \"number\",\n        \"std\": 20.978793844929328,\n        \"min\": 0.41975000500679016,\n        \"max\": 135.5800018310547,\n        \"num_unique_values\": 2391,\n        \"samples\": [\n          3.6177499294281006,\n          0.4972499907016754,\n          79.51799774169922\n        ],\n        \"semantic_type\": \"\",\n        \"description\": \"\"\n      }\n    },\n    {\n      \"column\": \"Adj Close\",\n      \"properties\": {\n        \"dtype\": \"number\",\n        \"std\": 20.984490492687122,\n        \"min\": 0.401343435049057,\n        \"max\": 135.5800018310547,\n        \"num_unique_values\": 2455,\n        \"samples\": [\n          13.019972801208496,\n          2.5756592750549316,\n          4.331055164337158\n        ],\n        \"semantic_type\": \"\",\n        \"description\": \"\"\n      }\n    },\n    {\n      \"column\": \"Volume\",\n      \"properties\": {\n        \"dtype\": \"number\",\n        \"std\": 254567108,\n        \"min\": 45644000,\n        \"max\": 3692928000,\n        \"num_unique_values\": 2505,\n        \"samples\": [\n          265740000,\n          214776000,\n          515154000\n        ],\n        \"semantic_type\": \"\",\n        \"description\": \"\"\n      }\n    }\n  ]\n}"
            }
          },
          "metadata": {},
          "execution_count": 81
        }
      ]
    },
    {
      "cell_type": "markdown",
      "source": [
        "##Data Preprocessing"
      ],
      "metadata": {
        "id": "tJPjOAYgQ8J4"
      }
    },
    {
      "cell_type": "code",
      "source": [
        "# x = stock_data[[i for i in stock_data.columns if i != 'Adj Close' and i != 'Close']].values\n",
        "x = stock_data[['Close']].values\n",
        "y = stock_data['Adj Close'].values"
      ],
      "metadata": {
        "id": "BdbrkGh75dn_"
      },
      "execution_count": 82,
      "outputs": []
    },
    {
      "cell_type": "code",
      "source": [
        "x.shape, y.shape"
      ],
      "metadata": {
        "colab": {
          "base_uri": "https://localhost:8080/"
        },
        "id": "T8okvRMx5xsR",
        "outputId": "93cecd91-05e8-4de0-b72d-9834e466c2de"
      },
      "execution_count": 83,
      "outputs": [
        {
          "output_type": "execute_result",
          "data": {
            "text/plain": [
              "((2516, 1), (2516,))"
            ]
          },
          "metadata": {},
          "execution_count": 83
        }
      ]
    },
    {
      "cell_type": "markdown",
      "source": [
        "###Training the Polynomial Regression Model on the whole dataset"
      ],
      "metadata": {
        "id": "GVD5s5gpLAoh"
      }
    },
    {
      "cell_type": "code",
      "source": [
        "pf = PolynomialFeatures(degree = 5)\n",
        "x_poly = pf.fit_transform(x)\n",
        "lin_reg = LinearRegression()\n",
        "lin_reg.fit(x_poly, y)"
      ],
      "metadata": {
        "colab": {
          "base_uri": "https://localhost:8080/",
          "height": 75
        },
        "id": "i530MGy25zXK",
        "outputId": "47f29113-9315-47ed-db66-1ca3aa5f5d9a"
      },
      "execution_count": 84,
      "outputs": [
        {
          "output_type": "execute_result",
          "data": {
            "text/plain": [
              "LinearRegression()"
            ],
            "text/html": [
              "<style>#sk-container-id-11 {color: black;background-color: white;}#sk-container-id-11 pre{padding: 0;}#sk-container-id-11 div.sk-toggleable {background-color: white;}#sk-container-id-11 label.sk-toggleable__label {cursor: pointer;display: block;width: 100%;margin-bottom: 0;padding: 0.3em;box-sizing: border-box;text-align: center;}#sk-container-id-11 label.sk-toggleable__label-arrow:before {content: \"▸\";float: left;margin-right: 0.25em;color: #696969;}#sk-container-id-11 label.sk-toggleable__label-arrow:hover:before {color: black;}#sk-container-id-11 div.sk-estimator:hover label.sk-toggleable__label-arrow:before {color: black;}#sk-container-id-11 div.sk-toggleable__content {max-height: 0;max-width: 0;overflow: hidden;text-align: left;background-color: #f0f8ff;}#sk-container-id-11 div.sk-toggleable__content pre {margin: 0.2em;color: black;border-radius: 0.25em;background-color: #f0f8ff;}#sk-container-id-11 input.sk-toggleable__control:checked~div.sk-toggleable__content {max-height: 200px;max-width: 100%;overflow: auto;}#sk-container-id-11 input.sk-toggleable__control:checked~label.sk-toggleable__label-arrow:before {content: \"▾\";}#sk-container-id-11 div.sk-estimator input.sk-toggleable__control:checked~label.sk-toggleable__label {background-color: #d4ebff;}#sk-container-id-11 div.sk-label input.sk-toggleable__control:checked~label.sk-toggleable__label {background-color: #d4ebff;}#sk-container-id-11 input.sk-hidden--visually {border: 0;clip: rect(1px 1px 1px 1px);clip: rect(1px, 1px, 1px, 1px);height: 1px;margin: -1px;overflow: hidden;padding: 0;position: absolute;width: 1px;}#sk-container-id-11 div.sk-estimator {font-family: monospace;background-color: #f0f8ff;border: 1px dotted black;border-radius: 0.25em;box-sizing: border-box;margin-bottom: 0.5em;}#sk-container-id-11 div.sk-estimator:hover {background-color: #d4ebff;}#sk-container-id-11 div.sk-parallel-item::after {content: \"\";width: 100%;border-bottom: 1px solid gray;flex-grow: 1;}#sk-container-id-11 div.sk-label:hover label.sk-toggleable__label {background-color: #d4ebff;}#sk-container-id-11 div.sk-serial::before {content: \"\";position: absolute;border-left: 1px solid gray;box-sizing: border-box;top: 0;bottom: 0;left: 50%;z-index: 0;}#sk-container-id-11 div.sk-serial {display: flex;flex-direction: column;align-items: center;background-color: white;padding-right: 0.2em;padding-left: 0.2em;position: relative;}#sk-container-id-11 div.sk-item {position: relative;z-index: 1;}#sk-container-id-11 div.sk-parallel {display: flex;align-items: stretch;justify-content: center;background-color: white;position: relative;}#sk-container-id-11 div.sk-item::before, #sk-container-id-11 div.sk-parallel-item::before {content: \"\";position: absolute;border-left: 1px solid gray;box-sizing: border-box;top: 0;bottom: 0;left: 50%;z-index: -1;}#sk-container-id-11 div.sk-parallel-item {display: flex;flex-direction: column;z-index: 1;position: relative;background-color: white;}#sk-container-id-11 div.sk-parallel-item:first-child::after {align-self: flex-end;width: 50%;}#sk-container-id-11 div.sk-parallel-item:last-child::after {align-self: flex-start;width: 50%;}#sk-container-id-11 div.sk-parallel-item:only-child::after {width: 0;}#sk-container-id-11 div.sk-dashed-wrapped {border: 1px dashed gray;margin: 0 0.4em 0.5em 0.4em;box-sizing: border-box;padding-bottom: 0.4em;background-color: white;}#sk-container-id-11 div.sk-label label {font-family: monospace;font-weight: bold;display: inline-block;line-height: 1.2em;}#sk-container-id-11 div.sk-label-container {text-align: center;}#sk-container-id-11 div.sk-container {/* jupyter's `normalize.less` sets `[hidden] { display: none; }` but bootstrap.min.css set `[hidden] { display: none !important; }` so we also need the `!important` here to be able to override the default hidden behavior on the sphinx rendered scikit-learn.org. See: https://github.com/scikit-learn/scikit-learn/issues/21755 */display: inline-block !important;position: relative;}#sk-container-id-11 div.sk-text-repr-fallback {display: none;}</style><div id=\"sk-container-id-11\" class=\"sk-top-container\"><div class=\"sk-text-repr-fallback\"><pre>LinearRegression()</pre><b>In a Jupyter environment, please rerun this cell to show the HTML representation or trust the notebook. <br />On GitHub, the HTML representation is unable to render, please try loading this page with nbviewer.org.</b></div><div class=\"sk-container\" hidden><div class=\"sk-item\"><div class=\"sk-estimator sk-toggleable\"><input class=\"sk-toggleable__control sk-hidden--visually\" id=\"sk-estimator-id-11\" type=\"checkbox\" checked><label for=\"sk-estimator-id-11\" class=\"sk-toggleable__label sk-toggleable__label-arrow\">LinearRegression</label><div class=\"sk-toggleable__content\"><pre>LinearRegression()</pre></div></div></div></div></div>"
            ]
          },
          "metadata": {},
          "execution_count": 84
        }
      ]
    },
    {
      "cell_type": "code",
      "source": [
        "lin_reg.coef_.shape"
      ],
      "metadata": {
        "colab": {
          "base_uri": "https://localhost:8080/"
        },
        "id": "BVtkHatx6dsC",
        "outputId": "e211446a-b92d-42e1-e965-74587dee4794"
      },
      "execution_count": 85,
      "outputs": [
        {
          "output_type": "execute_result",
          "data": {
            "text/plain": [
              "(6,)"
            ]
          },
          "metadata": {},
          "execution_count": 85
        }
      ]
    },
    {
      "cell_type": "markdown",
      "source": [
        "###Visualizing the Polynomial Regression results"
      ],
      "metadata": {
        "id": "YhKr615NPi35"
      }
    },
    {
      "cell_type": "code",
      "source": [
        "lin_reg.predict(x_poly).shape"
      ],
      "metadata": {
        "colab": {
          "base_uri": "https://localhost:8080/"
        },
        "id": "sOZ5Tkbd64yu",
        "outputId": "2df1f546-405e-4b7d-b77a-a7cf2ff44168"
      },
      "execution_count": 86,
      "outputs": [
        {
          "output_type": "execute_result",
          "data": {
            "text/plain": [
              "(2516,)"
            ]
          },
          "metadata": {},
          "execution_count": 86
        }
      ]
    },
    {
      "cell_type": "code",
      "source": [
        "plt.scatter(stock_data.index[::25], y[::25], color = 'r', label = 'True')\n",
        "plt.plot(stock_data.index, lin_reg.predict(x_poly), color = 'b', label = 'Fitted')\n",
        "plt.title(f'Fitted Polynomial Function for {stock}')\n",
        "plt.xlabel('x')\n",
        "plt.ylabel('Adj Close')\n",
        "plt.show()"
      ],
      "metadata": {
        "colab": {
          "base_uri": "https://localhost:8080/",
          "height": 456
        },
        "id": "OL29_CwZ6HFs",
        "outputId": "31c4191e-2c5a-4c2d-ccbc-e66d700d83bc"
      },
      "execution_count": 87,
      "outputs": [
        {
          "output_type": "display_data",
          "data": {
            "text/plain": [
              "<Figure size 640x480 with 1 Axes>"
            ],
            "image/svg+xml": "<?xml version=\"1.0\" encoding=\"utf-8\" standalone=\"no\"?>\n<!DOCTYPE svg PUBLIC \"-//W3C//DTD SVG 1.1//EN\"\n  \"http://www.w3.org/Graphics/SVG/1.1/DTD/svg11.dtd\">\n<svg xmlns:xlink=\"http://www.w3.org/1999/xlink\" width=\"411.285625pt\" height=\"325.986375pt\" viewBox=\"0 0 411.285625 325.986375\" xmlns=\"http://www.w3.org/2000/svg\" version=\"1.1\">\n <metadata>\n  <rdf:RDF xmlns:dc=\"http://purl.org/dc/elements/1.1/\" xmlns:cc=\"http://creativecommons.org/ns#\" xmlns:rdf=\"http://www.w3.org/1999/02/22-rdf-syntax-ns#\">\n   <cc:Work>\n    <dc:type rdf:resource=\"http://purl.org/dc/dcmitype/StillImage\"/>\n    <dc:date>2024-07-03T09:38:50.637674</dc:date>\n    <dc:format>image/svg+xml</dc:format>\n    <dc:creator>\n     <cc:Agent>\n      <dc:title>Matplotlib v3.7.1, https://matplotlib.org/</dc:title>\n     </cc:Agent>\n    </dc:creator>\n   </cc:Work>\n  </rdf:RDF>\n </metadata>\n <defs>\n  <style type=\"text/css\">*{stroke-linejoin: round; stroke-linecap: butt}</style>\n </defs>\n <g id=\"figure_1\">\n  <g id=\"patch_1\">\n   <path d=\"M 0 325.986375 \nL 411.285625 325.986375 \nL 411.285625 0 \nL 0 0 \nz\n\" style=\"fill: #ffffff\"/>\n  </g>\n  <g id=\"axes_1\">\n   <g id=\"patch_2\">\n    <path d=\"M 46.965625 288.430125 \nL 404.085625 288.430125 \nL 404.085625 22.318125 \nL 46.965625 22.318125 \nz\n\" style=\"fill: #ffffff\"/>\n   </g>\n   <g id=\"PathCollection_1\">\n    <defs>\n     <path id=\"m3c7aa39d46\" d=\"M 0 3 \nC 0.795609 3 1.55874 2.683901 2.12132 2.12132 \nC 2.683901 1.55874 3 0.795609 3 0 \nC 3 -0.795609 2.683901 -1.55874 2.12132 -2.12132 \nC 1.55874 -2.683901 0.795609 -3 0 -3 \nC -0.795609 -3 -1.55874 -2.683901 -2.12132 -2.12132 \nC -2.683901 -1.55874 -3 -0.795609 -3 0 \nC -3 0.795609 -2.683901 1.55874 -2.12132 2.12132 \nC -1.55874 2.683901 -0.795609 3 0 3 \nz\n\" style=\"stroke: #ff0000\"/>\n    </defs>\n    <g clip-path=\"url(#p78e3635525)\">\n     <use xlink:href=\"#m3c7aa39d46\" x=\"63.198352\" y=\"276.238443\" style=\"fill: #ff0000; stroke: #ff0000\"/>\n     <use xlink:href=\"#m3c7aa39d46\" x=\"66.398671\" y=\"276.232053\" style=\"fill: #ff0000; stroke: #ff0000\"/>\n     <use xlink:href=\"#m3c7aa39d46\" x=\"69.776785\" y=\"276.234463\" style=\"fill: #ff0000; stroke: #ff0000\"/>\n     <use xlink:href=\"#m3c7aa39d46\" x=\"72.888206\" y=\"276.289656\" style=\"fill: #ff0000; stroke: #ff0000\"/>\n     <use xlink:href=\"#m3c7aa39d46\" x=\"75.999627\" y=\"276.157146\" style=\"fill: #ff0000; stroke: #ff0000\"/>\n     <use xlink:href=\"#m3c7aa39d46\" x=\"79.288843\" y=\"276.179918\" style=\"fill: #ff0000; stroke: #ff0000\"/>\n     <use xlink:href=\"#m3c7aa39d46\" x=\"82.57806\" y=\"276.16488\" style=\"fill: #ff0000; stroke: #ff0000\"/>\n     <use xlink:href=\"#m3c7aa39d46\" x=\"85.956174\" y=\"276.050656\" style=\"fill: #ff0000; stroke: #ff0000\"/>\n     <use xlink:href=\"#m3c7aa39d46\" x=\"89.156492\" y=\"276.089906\" style=\"fill: #ff0000; stroke: #ff0000\"/>\n     <use xlink:href=\"#m3c7aa39d46\" x=\"92.356811\" y=\"276.095035\" style=\"fill: #ff0000; stroke: #ff0000\"/>\n     <use xlink:href=\"#m3c7aa39d46\" x=\"95.468232\" y=\"276.157432\" style=\"fill: #ff0000; stroke: #ff0000\"/>\n     <use xlink:href=\"#m3c7aa39d46\" x=\"98.66855\" y=\"276.155265\" style=\"fill: #ff0000; stroke: #ff0000\"/>\n     <use xlink:href=\"#m3c7aa39d46\" x=\"101.868869\" y=\"276.055806\" style=\"fill: #ff0000; stroke: #ff0000\"/>\n     <use xlink:href=\"#m3c7aa39d46\" x=\"104.98029\" y=\"275.8291\" style=\"fill: #ff0000; stroke: #ff0000\"/>\n     <use xlink:href=\"#m3c7aa39d46\" x=\"108.091711\" y=\"275.67031\" style=\"fill: #ff0000; stroke: #ff0000\"/>\n     <use xlink:href=\"#m3c7aa39d46\" x=\"111.558723\" y=\"275.570285\" style=\"fill: #ff0000; stroke: #ff0000\"/>\n     <use xlink:href=\"#m3c7aa39d46\" x=\"114.847939\" y=\"275.809209\" style=\"fill: #ff0000; stroke: #ff0000\"/>\n     <use xlink:href=\"#m3c7aa39d46\" x=\"118.048258\" y=\"275.62893\" style=\"fill: #ff0000; stroke: #ff0000\"/>\n     <use xlink:href=\"#m3c7aa39d46\" x=\"121.426372\" y=\"275.420699\" style=\"fill: #ff0000; stroke: #ff0000\"/>\n     <use xlink:href=\"#m3c7aa39d46\" x=\"124.537793\" y=\"275.094982\" style=\"fill: #ff0000; stroke: #ff0000\"/>\n     <use xlink:href=\"#m3c7aa39d46\" x=\"127.738111\" y=\"275.024\" style=\"fill: #ff0000; stroke: #ff0000\"/>\n     <use xlink:href=\"#m3c7aa39d46\" x=\"130.93843\" y=\"274.571734\" style=\"fill: #ff0000; stroke: #ff0000\"/>\n     <use xlink:href=\"#m3c7aa39d46\" x=\"134.138749\" y=\"274.283171\" style=\"fill: #ff0000; stroke: #ff0000\"/>\n     <use xlink:href=\"#m3c7aa39d46\" x=\"137.250169\" y=\"274.163842\" style=\"fill: #ff0000; stroke: #ff0000\"/>\n     <use xlink:href=\"#m3c7aa39d46\" x=\"140.36159\" y=\"272.973191\" style=\"fill: #ff0000; stroke: #ff0000\"/>\n     <use xlink:href=\"#m3c7aa39d46\" x=\"143.561909\" y=\"272.200222\" style=\"fill: #ff0000; stroke: #ff0000\"/>\n     <use xlink:href=\"#m3c7aa39d46\" x=\"147.117819\" y=\"272.016332\" style=\"fill: #ff0000; stroke: #ff0000\"/>\n     <use xlink:href=\"#m3c7aa39d46\" x=\"150.318137\" y=\"272.69041\" style=\"fill: #ff0000; stroke: #ff0000\"/>\n     <use xlink:href=\"#m3c7aa39d46\" x=\"153.429558\" y=\"272.82508\" style=\"fill: #ff0000; stroke: #ff0000\"/>\n     <use xlink:href=\"#m3c7aa39d46\" x=\"156.629877\" y=\"271.030057\" style=\"fill: #ff0000; stroke: #ff0000\"/>\n     <use xlink:href=\"#m3c7aa39d46\" x=\"160.007991\" y=\"270.316213\" style=\"fill: #ff0000; stroke: #ff0000\"/>\n     <use xlink:href=\"#m3c7aa39d46\" x=\"163.208309\" y=\"269.770773\" style=\"fill: #ff0000; stroke: #ff0000\"/>\n     <use xlink:href=\"#m3c7aa39d46\" x=\"166.408628\" y=\"269.705976\" style=\"fill: #ff0000; stroke: #ff0000\"/>\n     <use xlink:href=\"#m3c7aa39d46\" x=\"169.520049\" y=\"268.594225\" style=\"fill: #ff0000; stroke: #ff0000\"/>\n     <use xlink:href=\"#m3c7aa39d46\" x=\"172.63147\" y=\"267.751898\" style=\"fill: #ff0000; stroke: #ff0000\"/>\n     <use xlink:href=\"#m3c7aa39d46\" x=\"175.831788\" y=\"268.369216\" style=\"fill: #ff0000; stroke: #ff0000\"/>\n     <use xlink:href=\"#m3c7aa39d46\" x=\"179.387698\" y=\"266.296023\" style=\"fill: #ff0000; stroke: #ff0000\"/>\n     <use xlink:href=\"#m3c7aa39d46\" x=\"182.588017\" y=\"266.328328\" style=\"fill: #ff0000; stroke: #ff0000\"/>\n     <use xlink:href=\"#m3c7aa39d46\" x=\"185.788335\" y=\"266.649048\" style=\"fill: #ff0000; stroke: #ff0000\"/>\n     <use xlink:href=\"#m3c7aa39d46\" x=\"188.899756\" y=\"266.068299\" style=\"fill: #ff0000; stroke: #ff0000\"/>\n     <use xlink:href=\"#m3c7aa39d46\" x=\"192.100075\" y=\"265.917899\" style=\"fill: #ff0000; stroke: #ff0000\"/>\n     <use xlink:href=\"#m3c7aa39d46\" x=\"195.478189\" y=\"266.220195\" style=\"fill: #ff0000; stroke: #ff0000\"/>\n     <use xlink:href=\"#m3c7aa39d46\" x=\"198.678508\" y=\"264.459354\" style=\"fill: #ff0000; stroke: #ff0000\"/>\n     <use xlink:href=\"#m3c7aa39d46\" x=\"201.789928\" y=\"265.264747\" style=\"fill: #ff0000; stroke: #ff0000\"/>\n     <use xlink:href=\"#m3c7aa39d46\" x=\"204.901349\" y=\"268.202035\" style=\"fill: #ff0000; stroke: #ff0000\"/>\n     <use xlink:href=\"#m3c7aa39d46\" x=\"208.190566\" y=\"271.04374\" style=\"fill: #ff0000; stroke: #ff0000\"/>\n     <use xlink:href=\"#m3c7aa39d46\" x=\"211.746475\" y=\"271.19912\" style=\"fill: #ff0000; stroke: #ff0000\"/>\n     <use xlink:href=\"#m3c7aa39d46\" x=\"214.946794\" y=\"270.284302\" style=\"fill: #ff0000; stroke: #ff0000\"/>\n     <use xlink:href=\"#m3c7aa39d46\" x=\"218.058215\" y=\"268.504484\" style=\"fill: #ff0000; stroke: #ff0000\"/>\n     <use xlink:href=\"#m3c7aa39d46\" x=\"221.258533\" y=\"269.922562\" style=\"fill: #ff0000; stroke: #ff0000\"/>\n     <use xlink:href=\"#m3c7aa39d46\" x=\"224.458852\" y=\"270.289492\" style=\"fill: #ff0000; stroke: #ff0000\"/>\n     <use xlink:href=\"#m3c7aa39d46\" x=\"227.836966\" y=\"269.263539\" style=\"fill: #ff0000; stroke: #ff0000\"/>\n     <use xlink:href=\"#m3c7aa39d46\" x=\"231.037285\" y=\"269.730133\" style=\"fill: #ff0000; stroke: #ff0000\"/>\n     <use xlink:href=\"#m3c7aa39d46\" x=\"234.148706\" y=\"269.14851\" style=\"fill: #ff0000; stroke: #ff0000\"/>\n     <use xlink:href=\"#m3c7aa39d46\" x=\"237.260127\" y=\"267.706478\" style=\"fill: #ff0000; stroke: #ff0000\"/>\n     <use xlink:href=\"#m3c7aa39d46\" x=\"240.460445\" y=\"266.812695\" style=\"fill: #ff0000; stroke: #ff0000\"/>\n     <use xlink:href=\"#m3c7aa39d46\" x=\"244.016355\" y=\"266.336267\" style=\"fill: #ff0000; stroke: #ff0000\"/>\n     <use xlink:href=\"#m3c7aa39d46\" x=\"247.216673\" y=\"265.18424\" style=\"fill: #ff0000; stroke: #ff0000\"/>\n     <use xlink:href=\"#m3c7aa39d46\" x=\"250.328094\" y=\"265.490156\" style=\"fill: #ff0000; stroke: #ff0000\"/>\n     <use xlink:href=\"#m3c7aa39d46\" x=\"253.528413\" y=\"263.163677\" style=\"fill: #ff0000; stroke: #ff0000\"/>\n     <use xlink:href=\"#m3c7aa39d46\" x=\"256.728732\" y=\"260.591116\" style=\"fill: #ff0000; stroke: #ff0000\"/>\n     <use xlink:href=\"#m3c7aa39d46\" x=\"259.92905\" y=\"258.848473\" style=\"fill: #ff0000; stroke: #ff0000\"/>\n     <use xlink:href=\"#m3c7aa39d46\" x=\"263.040471\" y=\"253.578154\" style=\"fill: #ff0000; stroke: #ff0000\"/>\n     <use xlink:href=\"#m3c7aa39d46\" x=\"266.418585\" y=\"252.687946\" style=\"fill: #ff0000; stroke: #ff0000\"/>\n     <use xlink:href=\"#m3c7aa39d46\" x=\"269.530006\" y=\"252.708923\" style=\"fill: #ff0000; stroke: #ff0000\"/>\n     <use xlink:href=\"#m3c7aa39d46\" x=\"272.730325\" y=\"253.184302\" style=\"fill: #ff0000; stroke: #ff0000\"/>\n     <use xlink:href=\"#m3c7aa39d46\" x=\"276.108439\" y=\"252.555758\" style=\"fill: #ff0000; stroke: #ff0000\"/>\n     <use xlink:href=\"#m3c7aa39d46\" x=\"279.486553\" y=\"252.32496\" style=\"fill: #ff0000; stroke: #ff0000\"/>\n     <use xlink:href=\"#m3c7aa39d46\" x=\"282.686872\" y=\"252.281156\" style=\"fill: #ff0000; stroke: #ff0000\"/>\n     <use xlink:href=\"#m3c7aa39d46\" x=\"285.798293\" y=\"251.486715\" style=\"fill: #ff0000; stroke: #ff0000\"/>\n     <use xlink:href=\"#m3c7aa39d46\" x=\"288.998611\" y=\"245.220372\" style=\"fill: #ff0000; stroke: #ff0000\"/>\n     <use xlink:href=\"#m3c7aa39d46\" x=\"292.19893\" y=\"242.033398\" style=\"fill: #ff0000; stroke: #ff0000\"/>\n     <use xlink:href=\"#m3c7aa39d46\" x=\"295.310351\" y=\"237.613176\" style=\"fill: #ff0000; stroke: #ff0000\"/>\n     <use xlink:href=\"#m3c7aa39d46\" x=\"298.510669\" y=\"239.975767\" style=\"fill: #ff0000; stroke: #ff0000\"/>\n     <use xlink:href=\"#m3c7aa39d46\" x=\"301.62209\" y=\"223.875034\" style=\"fill: #ff0000; stroke: #ff0000\"/>\n     <use xlink:href=\"#m3c7aa39d46\" x=\"305.000204\" y=\"226.711978\" style=\"fill: #ff0000; stroke: #ff0000\"/>\n     <use xlink:href=\"#m3c7aa39d46\" x=\"308.289421\" y=\"232.241577\" style=\"fill: #ff0000; stroke: #ff0000\"/>\n     <use xlink:href=\"#m3c7aa39d46\" x=\"311.489739\" y=\"234.598897\" style=\"fill: #ff0000; stroke: #ff0000\"/>\n     <use xlink:href=\"#m3c7aa39d46\" x=\"314.60116\" y=\"228.267464\" style=\"fill: #ff0000; stroke: #ff0000\"/>\n     <use xlink:href=\"#m3c7aa39d46\" x=\"317.801479\" y=\"243.659697\" style=\"fill: #ff0000; stroke: #ff0000\"/>\n     <use xlink:href=\"#m3c7aa39d46\" x=\"321.179593\" y=\"249.066348\" style=\"fill: #ff0000; stroke: #ff0000\"/>\n     <use xlink:href=\"#m3c7aa39d46\" x=\"324.468809\" y=\"245.204518\" style=\"fill: #ff0000; stroke: #ff0000\"/>\n     <use xlink:href=\"#m3c7aa39d46\" x=\"327.58023\" y=\"246.250429\" style=\"fill: #ff0000; stroke: #ff0000\"/>\n     <use xlink:href=\"#m3c7aa39d46\" x=\"330.780549\" y=\"255.18694\" style=\"fill: #ff0000; stroke: #ff0000\"/>\n     <use xlink:href=\"#m3c7aa39d46\" x=\"333.89197\" y=\"253.039053\" style=\"fill: #ff0000; stroke: #ff0000\"/>\n     <use xlink:href=\"#m3c7aa39d46\" x=\"337.092288\" y=\"246.62874\" style=\"fill: #ff0000; stroke: #ff0000\"/>\n     <use xlink:href=\"#m3c7aa39d46\" x=\"340.648198\" y=\"245.956122\" style=\"fill: #ff0000; stroke: #ff0000\"/>\n     <use xlink:href=\"#m3c7aa39d46\" x=\"343.848517\" y=\"234.709475\" style=\"fill: #ff0000; stroke: #ff0000\"/>\n     <use xlink:href=\"#m3c7aa39d46\" x=\"346.959937\" y=\"228.048328\" style=\"fill: #ff0000; stroke: #ff0000\"/>\n     <use xlink:href=\"#m3c7aa39d46\" x=\"350.160256\" y=\"225.727767\" style=\"fill: #ff0000; stroke: #ff0000\"/>\n     <use xlink:href=\"#m3c7aa39d46\" x=\"353.53837\" y=\"206.393754\" style=\"fill: #ff0000; stroke: #ff0000\"/>\n     <use xlink:href=\"#m3c7aa39d46\" x=\"356.827587\" y=\"192.803546\" style=\"fill: #ff0000; stroke: #ff0000\"/>\n     <use xlink:href=\"#m3c7aa39d46\" x=\"359.939007\" y=\"192.733751\" style=\"fill: #ff0000; stroke: #ff0000\"/>\n     <use xlink:href=\"#m3c7aa39d46\" x=\"363.139326\" y=\"199.933174\" style=\"fill: #ff0000; stroke: #ff0000\"/>\n     <use xlink:href=\"#m3c7aa39d46\" x=\"366.250747\" y=\"199.18695\" style=\"fill: #ff0000; stroke: #ff0000\"/>\n     <use xlink:href=\"#m3c7aa39d46\" x=\"369.451066\" y=\"192.021428\" style=\"fill: #ff0000; stroke: #ff0000\"/>\n     <use xlink:href=\"#m3c7aa39d46\" x=\"373.006975\" y=\"176.725134\" style=\"fill: #ff0000; stroke: #ff0000\"/>\n     <use xlink:href=\"#m3c7aa39d46\" x=\"376.207294\" y=\"136.484459\" style=\"fill: #ff0000; stroke: #ff0000\"/>\n     <use xlink:href=\"#m3c7aa39d46\" x=\"379.318715\" y=\"115.326572\" style=\"fill: #ff0000; stroke: #ff0000\"/>\n     <use xlink:href=\"#m3c7aa39d46\" x=\"382.519033\" y=\"118.131113\" style=\"fill: #ff0000; stroke: #ff0000\"/>\n     <use xlink:href=\"#m3c7aa39d46\" x=\"385.897147\" y=\"59.067509\" style=\"fill: #ff0000; stroke: #ff0000\"/>\n    </g>\n   </g>\n   <g id=\"matplotlib.axis_1\">\n    <g id=\"xtick_1\">\n     <g id=\"line2d_1\">\n      <defs>\n       <path id=\"m0a20a9c141\" d=\"M 0 0 \nL 0 3.5 \n\" style=\"stroke: #000000; stroke-width: 0.8\"/>\n      </defs>\n      <g>\n       <use xlink:href=\"#m0a20a9c141\" x=\"79.377741\" y=\"288.430125\" style=\"stroke: #000000; stroke-width: 0.8\"/>\n      </g>\n     </g>\n     <g id=\"text_1\">\n      <!-- 2015 -->\n      <g transform=\"translate(66.652741 303.028562) scale(0.1 -0.1)\">\n       <defs>\n        <path id=\"DejaVuSans-32\" d=\"M 1228 531 \nL 3431 531 \nL 3431 0 \nL 469 0 \nL 469 531 \nQ 828 903 1448 1529 \nQ 2069 2156 2228 2338 \nQ 2531 2678 2651 2914 \nQ 2772 3150 2772 3378 \nQ 2772 3750 2511 3984 \nQ 2250 4219 1831 4219 \nQ 1534 4219 1204 4116 \nQ 875 4013 500 3803 \nL 500 4441 \nQ 881 4594 1212 4672 \nQ 1544 4750 1819 4750 \nQ 2544 4750 2975 4387 \nQ 3406 4025 3406 3419 \nQ 3406 3131 3298 2873 \nQ 3191 2616 2906 2266 \nQ 2828 2175 2409 1742 \nQ 1991 1309 1228 531 \nz\n\" transform=\"scale(0.015625)\"/>\n        <path id=\"DejaVuSans-30\" d=\"M 2034 4250 \nQ 1547 4250 1301 3770 \nQ 1056 3291 1056 2328 \nQ 1056 1369 1301 889 \nQ 1547 409 2034 409 \nQ 2525 409 2770 889 \nQ 3016 1369 3016 2328 \nQ 3016 3291 2770 3770 \nQ 2525 4250 2034 4250 \nz\nM 2034 4750 \nQ 2819 4750 3233 4129 \nQ 3647 3509 3647 2328 \nQ 3647 1150 3233 529 \nQ 2819 -91 2034 -91 \nQ 1250 -91 836 529 \nQ 422 1150 422 2328 \nQ 422 3509 836 4129 \nQ 1250 4750 2034 4750 \nz\n\" transform=\"scale(0.015625)\"/>\n        <path id=\"DejaVuSans-31\" d=\"M 794 531 \nL 1825 531 \nL 1825 4091 \nL 703 3866 \nL 703 4441 \nL 1819 4666 \nL 2450 4666 \nL 2450 531 \nL 3481 531 \nL 3481 0 \nL 794 0 \nL 794 531 \nz\n\" transform=\"scale(0.015625)\"/>\n        <path id=\"DejaVuSans-35\" d=\"M 691 4666 \nL 3169 4666 \nL 3169 4134 \nL 1269 4134 \nL 1269 2991 \nQ 1406 3038 1543 3061 \nQ 1681 3084 1819 3084 \nQ 2600 3084 3056 2656 \nQ 3513 2228 3513 1497 \nQ 3513 744 3044 326 \nQ 2575 -91 1722 -91 \nQ 1428 -91 1123 -41 \nQ 819 9 494 109 \nL 494 744 \nQ 775 591 1075 516 \nQ 1375 441 1709 441 \nQ 2250 441 2565 725 \nQ 2881 1009 2881 1497 \nQ 2881 1984 2565 2268 \nQ 2250 2553 1709 2553 \nQ 1456 2553 1204 2497 \nQ 953 2441 691 2322 \nL 691 4666 \nz\n\" transform=\"scale(0.015625)\"/>\n       </defs>\n       <use xlink:href=\"#DejaVuSans-32\"/>\n       <use xlink:href=\"#DejaVuSans-30\" x=\"63.623047\"/>\n       <use xlink:href=\"#DejaVuSans-31\" x=\"127.246094\"/>\n       <use xlink:href=\"#DejaVuSans-35\" x=\"190.869141\"/>\n      </g>\n     </g>\n    </g>\n    <g id=\"xtick_2\">\n     <g id=\"line2d_2\">\n      <g>\n       <use xlink:href=\"#m0a20a9c141\" x=\"111.825416\" y=\"288.430125\" style=\"stroke: #000000; stroke-width: 0.8\"/>\n      </g>\n     </g>\n     <g id=\"text_2\">\n      <!-- 2016 -->\n      <g transform=\"translate(99.100416 303.028562) scale(0.1 -0.1)\">\n       <defs>\n        <path id=\"DejaVuSans-36\" d=\"M 2113 2584 \nQ 1688 2584 1439 2293 \nQ 1191 2003 1191 1497 \nQ 1191 994 1439 701 \nQ 1688 409 2113 409 \nQ 2538 409 2786 701 \nQ 3034 994 3034 1497 \nQ 3034 2003 2786 2293 \nQ 2538 2584 2113 2584 \nz\nM 3366 4563 \nL 3366 3988 \nQ 3128 4100 2886 4159 \nQ 2644 4219 2406 4219 \nQ 1781 4219 1451 3797 \nQ 1122 3375 1075 2522 \nQ 1259 2794 1537 2939 \nQ 1816 3084 2150 3084 \nQ 2853 3084 3261 2657 \nQ 3669 2231 3669 1497 \nQ 3669 778 3244 343 \nQ 2819 -91 2113 -91 \nQ 1303 -91 875 529 \nQ 447 1150 447 2328 \nQ 447 3434 972 4092 \nQ 1497 4750 2381 4750 \nQ 2619 4750 2861 4703 \nQ 3103 4656 3366 4563 \nz\n\" transform=\"scale(0.015625)\"/>\n       </defs>\n       <use xlink:href=\"#DejaVuSans-32\"/>\n       <use xlink:href=\"#DejaVuSans-30\" x=\"63.623047\"/>\n       <use xlink:href=\"#DejaVuSans-31\" x=\"127.246094\"/>\n       <use xlink:href=\"#DejaVuSans-36\" x=\"190.869141\"/>\n      </g>\n     </g>\n    </g>\n    <g id=\"xtick_3\">\n     <g id=\"line2d_3\">\n      <g>\n       <use xlink:href=\"#m0a20a9c141\" x=\"144.361989\" y=\"288.430125\" style=\"stroke: #000000; stroke-width: 0.8\"/>\n      </g>\n     </g>\n     <g id=\"text_3\">\n      <!-- 2017 -->\n      <g transform=\"translate(131.636989 303.028562) scale(0.1 -0.1)\">\n       <defs>\n        <path id=\"DejaVuSans-37\" d=\"M 525 4666 \nL 3525 4666 \nL 3525 4397 \nL 1831 0 \nL 1172 0 \nL 2766 4134 \nL 525 4134 \nL 525 4666 \nz\n\" transform=\"scale(0.015625)\"/>\n       </defs>\n       <use xlink:href=\"#DejaVuSans-32\"/>\n       <use xlink:href=\"#DejaVuSans-30\" x=\"63.623047\"/>\n       <use xlink:href=\"#DejaVuSans-31\" x=\"127.246094\"/>\n       <use xlink:href=\"#DejaVuSans-37\" x=\"190.869141\"/>\n      </g>\n     </g>\n    </g>\n    <g id=\"xtick_4\">\n     <g id=\"line2d_4\">\n      <g>\n       <use xlink:href=\"#m0a20a9c141\" x=\"176.809664\" y=\"288.430125\" style=\"stroke: #000000; stroke-width: 0.8\"/>\n      </g>\n     </g>\n     <g id=\"text_4\">\n      <!-- 2018 -->\n      <g transform=\"translate(164.084664 303.028562) scale(0.1 -0.1)\">\n       <defs>\n        <path id=\"DejaVuSans-38\" d=\"M 2034 2216 \nQ 1584 2216 1326 1975 \nQ 1069 1734 1069 1313 \nQ 1069 891 1326 650 \nQ 1584 409 2034 409 \nQ 2484 409 2743 651 \nQ 3003 894 3003 1313 \nQ 3003 1734 2745 1975 \nQ 2488 2216 2034 2216 \nz\nM 1403 2484 \nQ 997 2584 770 2862 \nQ 544 3141 544 3541 \nQ 544 4100 942 4425 \nQ 1341 4750 2034 4750 \nQ 2731 4750 3128 4425 \nQ 3525 4100 3525 3541 \nQ 3525 3141 3298 2862 \nQ 3072 2584 2669 2484 \nQ 3125 2378 3379 2068 \nQ 3634 1759 3634 1313 \nQ 3634 634 3220 271 \nQ 2806 -91 2034 -91 \nQ 1263 -91 848 271 \nQ 434 634 434 1313 \nQ 434 1759 690 2068 \nQ 947 2378 1403 2484 \nz\nM 1172 3481 \nQ 1172 3119 1398 2916 \nQ 1625 2713 2034 2713 \nQ 2441 2713 2670 2916 \nQ 2900 3119 2900 3481 \nQ 2900 3844 2670 4047 \nQ 2441 4250 2034 4250 \nQ 1625 4250 1398 4047 \nQ 1172 3844 1172 3481 \nz\n\" transform=\"scale(0.015625)\"/>\n       </defs>\n       <use xlink:href=\"#DejaVuSans-32\"/>\n       <use xlink:href=\"#DejaVuSans-30\" x=\"63.623047\"/>\n       <use xlink:href=\"#DejaVuSans-31\" x=\"127.246094\"/>\n       <use xlink:href=\"#DejaVuSans-38\" x=\"190.869141\"/>\n      </g>\n     </g>\n    </g>\n    <g id=\"xtick_5\">\n     <g id=\"line2d_5\">\n      <g>\n       <use xlink:href=\"#m0a20a9c141\" x=\"209.257339\" y=\"288.430125\" style=\"stroke: #000000; stroke-width: 0.8\"/>\n      </g>\n     </g>\n     <g id=\"text_5\">\n      <!-- 2019 -->\n      <g transform=\"translate(196.532339 303.028562) scale(0.1 -0.1)\">\n       <defs>\n        <path id=\"DejaVuSans-39\" d=\"M 703 97 \nL 703 672 \nQ 941 559 1184 500 \nQ 1428 441 1663 441 \nQ 2288 441 2617 861 \nQ 2947 1281 2994 2138 \nQ 2813 1869 2534 1725 \nQ 2256 1581 1919 1581 \nQ 1219 1581 811 2004 \nQ 403 2428 403 3163 \nQ 403 3881 828 4315 \nQ 1253 4750 1959 4750 \nQ 2769 4750 3195 4129 \nQ 3622 3509 3622 2328 \nQ 3622 1225 3098 567 \nQ 2575 -91 1691 -91 \nQ 1453 -91 1209 -44 \nQ 966 3 703 97 \nz\nM 1959 2075 \nQ 2384 2075 2632 2365 \nQ 2881 2656 2881 3163 \nQ 2881 3666 2632 3958 \nQ 2384 4250 1959 4250 \nQ 1534 4250 1286 3958 \nQ 1038 3666 1038 3163 \nQ 1038 2656 1286 2365 \nQ 1534 2075 1959 2075 \nz\n\" transform=\"scale(0.015625)\"/>\n       </defs>\n       <use xlink:href=\"#DejaVuSans-32\"/>\n       <use xlink:href=\"#DejaVuSans-30\" x=\"63.623047\"/>\n       <use xlink:href=\"#DejaVuSans-31\" x=\"127.246094\"/>\n       <use xlink:href=\"#DejaVuSans-39\" x=\"190.869141\"/>\n      </g>\n     </g>\n    </g>\n    <g id=\"xtick_6\">\n     <g id=\"line2d_6\">\n      <g>\n       <use xlink:href=\"#m0a20a9c141\" x=\"241.705014\" y=\"288.430125\" style=\"stroke: #000000; stroke-width: 0.8\"/>\n      </g>\n     </g>\n     <g id=\"text_6\">\n      <!-- 2020 -->\n      <g transform=\"translate(228.980014 303.028562) scale(0.1 -0.1)\">\n       <use xlink:href=\"#DejaVuSans-32\"/>\n       <use xlink:href=\"#DejaVuSans-30\" x=\"63.623047\"/>\n       <use xlink:href=\"#DejaVuSans-32\" x=\"127.246094\"/>\n       <use xlink:href=\"#DejaVuSans-30\" x=\"190.869141\"/>\n      </g>\n     </g>\n    </g>\n    <g id=\"xtick_7\">\n     <g id=\"line2d_7\">\n      <g>\n       <use xlink:href=\"#m0a20a9c141\" x=\"274.241586\" y=\"288.430125\" style=\"stroke: #000000; stroke-width: 0.8\"/>\n      </g>\n     </g>\n     <g id=\"text_7\">\n      <!-- 2021 -->\n      <g transform=\"translate(261.516586 303.028562) scale(0.1 -0.1)\">\n       <use xlink:href=\"#DejaVuSans-32\"/>\n       <use xlink:href=\"#DejaVuSans-30\" x=\"63.623047\"/>\n       <use xlink:href=\"#DejaVuSans-32\" x=\"127.246094\"/>\n       <use xlink:href=\"#DejaVuSans-31\" x=\"190.869141\"/>\n      </g>\n     </g>\n    </g>\n    <g id=\"xtick_8\">\n     <g id=\"line2d_8\">\n      <g>\n       <use xlink:href=\"#m0a20a9c141\" x=\"306.689261\" y=\"288.430125\" style=\"stroke: #000000; stroke-width: 0.8\"/>\n      </g>\n     </g>\n     <g id=\"text_8\">\n      <!-- 2022 -->\n      <g transform=\"translate(293.964261 303.028562) scale(0.1 -0.1)\">\n       <use xlink:href=\"#DejaVuSans-32\"/>\n       <use xlink:href=\"#DejaVuSans-30\" x=\"63.623047\"/>\n       <use xlink:href=\"#DejaVuSans-32\" x=\"127.246094\"/>\n       <use xlink:href=\"#DejaVuSans-32\" x=\"190.869141\"/>\n      </g>\n     </g>\n    </g>\n    <g id=\"xtick_9\">\n     <g id=\"line2d_9\">\n      <g>\n       <use xlink:href=\"#m0a20a9c141\" x=\"339.136936\" y=\"288.430125\" style=\"stroke: #000000; stroke-width: 0.8\"/>\n      </g>\n     </g>\n     <g id=\"text_9\">\n      <!-- 2023 -->\n      <g transform=\"translate(326.411936 303.028562) scale(0.1 -0.1)\">\n       <defs>\n        <path id=\"DejaVuSans-33\" d=\"M 2597 2516 \nQ 3050 2419 3304 2112 \nQ 3559 1806 3559 1356 \nQ 3559 666 3084 287 \nQ 2609 -91 1734 -91 \nQ 1441 -91 1130 -33 \nQ 819 25 488 141 \nL 488 750 \nQ 750 597 1062 519 \nQ 1375 441 1716 441 \nQ 2309 441 2620 675 \nQ 2931 909 2931 1356 \nQ 2931 1769 2642 2001 \nQ 2353 2234 1838 2234 \nL 1294 2234 \nL 1294 2753 \nL 1863 2753 \nQ 2328 2753 2575 2939 \nQ 2822 3125 2822 3475 \nQ 2822 3834 2567 4026 \nQ 2313 4219 1838 4219 \nQ 1578 4219 1281 4162 \nQ 984 4106 628 3988 \nL 628 4550 \nQ 988 4650 1302 4700 \nQ 1616 4750 1894 4750 \nQ 2613 4750 3031 4423 \nQ 3450 4097 3450 3541 \nQ 3450 3153 3228 2886 \nQ 3006 2619 2597 2516 \nz\n\" transform=\"scale(0.015625)\"/>\n       </defs>\n       <use xlink:href=\"#DejaVuSans-32\"/>\n       <use xlink:href=\"#DejaVuSans-30\" x=\"63.623047\"/>\n       <use xlink:href=\"#DejaVuSans-32\" x=\"127.246094\"/>\n       <use xlink:href=\"#DejaVuSans-33\" x=\"190.869141\"/>\n      </g>\n     </g>\n    </g>\n    <g id=\"xtick_10\">\n     <g id=\"line2d_10\">\n      <g>\n       <use xlink:href=\"#m0a20a9c141\" x=\"371.584611\" y=\"288.430125\" style=\"stroke: #000000; stroke-width: 0.8\"/>\n      </g>\n     </g>\n     <g id=\"text_10\">\n      <!-- 2024 -->\n      <g transform=\"translate(358.859611 303.028562) scale(0.1 -0.1)\">\n       <defs>\n        <path id=\"DejaVuSans-34\" d=\"M 2419 4116 \nL 825 1625 \nL 2419 1625 \nL 2419 4116 \nz\nM 2253 4666 \nL 3047 4666 \nL 3047 1625 \nL 3713 1625 \nL 3713 1100 \nL 3047 1100 \nL 3047 0 \nL 2419 0 \nL 2419 1100 \nL 313 1100 \nL 313 1709 \nL 2253 4666 \nz\n\" transform=\"scale(0.015625)\"/>\n       </defs>\n       <use xlink:href=\"#DejaVuSans-32\"/>\n       <use xlink:href=\"#DejaVuSans-30\" x=\"63.623047\"/>\n       <use xlink:href=\"#DejaVuSans-32\" x=\"127.246094\"/>\n       <use xlink:href=\"#DejaVuSans-34\" x=\"190.869141\"/>\n      </g>\n     </g>\n    </g>\n    <g id=\"text_11\">\n     <!-- x -->\n     <g transform=\"translate(222.56625 316.706687) scale(0.1 -0.1)\">\n      <defs>\n       <path id=\"DejaVuSans-78\" d=\"M 3513 3500 \nL 2247 1797 \nL 3578 0 \nL 2900 0 \nL 1881 1375 \nL 863 0 \nL 184 0 \nL 1544 1831 \nL 300 3500 \nL 978 3500 \nL 1906 2253 \nL 2834 3500 \nL 3513 3500 \nz\n\" transform=\"scale(0.015625)\"/>\n      </defs>\n      <use xlink:href=\"#DejaVuSans-78\"/>\n     </g>\n    </g>\n   </g>\n   <g id=\"matplotlib.axis_2\">\n    <g id=\"ytick_1\">\n     <g id=\"line2d_11\">\n      <defs>\n       <path id=\"m30a94050a0\" d=\"M 0 0 \nL -3.5 0 \n\" style=\"stroke: #000000; stroke-width: 0.8\"/>\n      </defs>\n      <g>\n       <use xlink:href=\"#m30a94050a0\" x=\"46.965625\" y=\"277.041392\" style=\"stroke: #000000; stroke-width: 0.8\"/>\n      </g>\n     </g>\n     <g id=\"text_12\">\n      <!-- 0 -->\n      <g transform=\"translate(33.603125 280.840611) scale(0.1 -0.1)\">\n       <use xlink:href=\"#DejaVuSans-30\"/>\n      </g>\n     </g>\n    </g>\n    <g id=\"ytick_2\">\n     <g id=\"line2d_12\">\n      <g>\n       <use xlink:href=\"#m30a94050a0\" x=\"46.965625\" y=\"241.243415\" style=\"stroke: #000000; stroke-width: 0.8\"/>\n      </g>\n     </g>\n     <g id=\"text_13\">\n      <!-- 20 -->\n      <g transform=\"translate(27.240625 245.042633) scale(0.1 -0.1)\">\n       <use xlink:href=\"#DejaVuSans-32\"/>\n       <use xlink:href=\"#DejaVuSans-30\" x=\"63.623047\"/>\n      </g>\n     </g>\n    </g>\n    <g id=\"ytick_3\">\n     <g id=\"line2d_13\">\n      <g>\n       <use xlink:href=\"#m30a94050a0\" x=\"46.965625\" y=\"205.445437\" style=\"stroke: #000000; stroke-width: 0.8\"/>\n      </g>\n     </g>\n     <g id=\"text_14\">\n      <!-- 40 -->\n      <g transform=\"translate(27.240625 209.244656) scale(0.1 -0.1)\">\n       <use xlink:href=\"#DejaVuSans-34\"/>\n       <use xlink:href=\"#DejaVuSans-30\" x=\"63.623047\"/>\n      </g>\n     </g>\n    </g>\n    <g id=\"ytick_4\">\n     <g id=\"line2d_14\">\n      <g>\n       <use xlink:href=\"#m30a94050a0\" x=\"46.965625\" y=\"169.64746\" style=\"stroke: #000000; stroke-width: 0.8\"/>\n      </g>\n     </g>\n     <g id=\"text_15\">\n      <!-- 60 -->\n      <g transform=\"translate(27.240625 173.446678) scale(0.1 -0.1)\">\n       <use xlink:href=\"#DejaVuSans-36\"/>\n       <use xlink:href=\"#DejaVuSans-30\" x=\"63.623047\"/>\n      </g>\n     </g>\n    </g>\n    <g id=\"ytick_5\">\n     <g id=\"line2d_15\">\n      <g>\n       <use xlink:href=\"#m30a94050a0\" x=\"46.965625\" y=\"133.849482\" style=\"stroke: #000000; stroke-width: 0.8\"/>\n      </g>\n     </g>\n     <g id=\"text_16\">\n      <!-- 80 -->\n      <g transform=\"translate(27.240625 137.648701) scale(0.1 -0.1)\">\n       <use xlink:href=\"#DejaVuSans-38\"/>\n       <use xlink:href=\"#DejaVuSans-30\" x=\"63.623047\"/>\n      </g>\n     </g>\n    </g>\n    <g id=\"ytick_6\">\n     <g id=\"line2d_16\">\n      <g>\n       <use xlink:href=\"#m30a94050a0\" x=\"46.965625\" y=\"98.051505\" style=\"stroke: #000000; stroke-width: 0.8\"/>\n      </g>\n     </g>\n     <g id=\"text_17\">\n      <!-- 100 -->\n      <g transform=\"translate(20.878125 101.850723) scale(0.1 -0.1)\">\n       <use xlink:href=\"#DejaVuSans-31\"/>\n       <use xlink:href=\"#DejaVuSans-30\" x=\"63.623047\"/>\n       <use xlink:href=\"#DejaVuSans-30\" x=\"127.246094\"/>\n      </g>\n     </g>\n    </g>\n    <g id=\"ytick_7\">\n     <g id=\"line2d_17\">\n      <g>\n       <use xlink:href=\"#m30a94050a0\" x=\"46.965625\" y=\"62.253527\" style=\"stroke: #000000; stroke-width: 0.8\"/>\n      </g>\n     </g>\n     <g id=\"text_18\">\n      <!-- 120 -->\n      <g transform=\"translate(20.878125 66.052746) scale(0.1 -0.1)\">\n       <use xlink:href=\"#DejaVuSans-31\"/>\n       <use xlink:href=\"#DejaVuSans-32\" x=\"63.623047\"/>\n       <use xlink:href=\"#DejaVuSans-30\" x=\"127.246094\"/>\n      </g>\n     </g>\n    </g>\n    <g id=\"ytick_8\">\n     <g id=\"line2d_18\">\n      <g>\n       <use xlink:href=\"#m30a94050a0\" x=\"46.965625\" y=\"26.45555\" style=\"stroke: #000000; stroke-width: 0.8\"/>\n      </g>\n     </g>\n     <g id=\"text_19\">\n      <!-- 140 -->\n      <g transform=\"translate(20.878125 30.254768) scale(0.1 -0.1)\">\n       <use xlink:href=\"#DejaVuSans-31\"/>\n       <use xlink:href=\"#DejaVuSans-34\" x=\"63.623047\"/>\n       <use xlink:href=\"#DejaVuSans-30\" x=\"127.246094\"/>\n      </g>\n     </g>\n    </g>\n    <g id=\"text_20\">\n     <!-- Adj Close -->\n     <g transform=\"translate(14.798438 178.480375) rotate(-90) scale(0.1 -0.1)\">\n      <defs>\n       <path id=\"DejaVuSans-41\" d=\"M 2188 4044 \nL 1331 1722 \nL 3047 1722 \nL 2188 4044 \nz\nM 1831 4666 \nL 2547 4666 \nL 4325 0 \nL 3669 0 \nL 3244 1197 \nL 1141 1197 \nL 716 0 \nL 50 0 \nL 1831 4666 \nz\n\" transform=\"scale(0.015625)\"/>\n       <path id=\"DejaVuSans-64\" d=\"M 2906 2969 \nL 2906 4863 \nL 3481 4863 \nL 3481 0 \nL 2906 0 \nL 2906 525 \nQ 2725 213 2448 61 \nQ 2172 -91 1784 -91 \nQ 1150 -91 751 415 \nQ 353 922 353 1747 \nQ 353 2572 751 3078 \nQ 1150 3584 1784 3584 \nQ 2172 3584 2448 3432 \nQ 2725 3281 2906 2969 \nz\nM 947 1747 \nQ 947 1113 1208 752 \nQ 1469 391 1925 391 \nQ 2381 391 2643 752 \nQ 2906 1113 2906 1747 \nQ 2906 2381 2643 2742 \nQ 2381 3103 1925 3103 \nQ 1469 3103 1208 2742 \nQ 947 2381 947 1747 \nz\n\" transform=\"scale(0.015625)\"/>\n       <path id=\"DejaVuSans-6a\" d=\"M 603 3500 \nL 1178 3500 \nL 1178 -63 \nQ 1178 -731 923 -1031 \nQ 669 -1331 103 -1331 \nL -116 -1331 \nL -116 -844 \nL 38 -844 \nQ 366 -844 484 -692 \nQ 603 -541 603 -63 \nL 603 3500 \nz\nM 603 4863 \nL 1178 4863 \nL 1178 4134 \nL 603 4134 \nL 603 4863 \nz\n\" transform=\"scale(0.015625)\"/>\n       <path id=\"DejaVuSans-20\" transform=\"scale(0.015625)\"/>\n       <path id=\"DejaVuSans-43\" d=\"M 4122 4306 \nL 4122 3641 \nQ 3803 3938 3442 4084 \nQ 3081 4231 2675 4231 \nQ 1875 4231 1450 3742 \nQ 1025 3253 1025 2328 \nQ 1025 1406 1450 917 \nQ 1875 428 2675 428 \nQ 3081 428 3442 575 \nQ 3803 722 4122 1019 \nL 4122 359 \nQ 3791 134 3420 21 \nQ 3050 -91 2638 -91 \nQ 1578 -91 968 557 \nQ 359 1206 359 2328 \nQ 359 3453 968 4101 \nQ 1578 4750 2638 4750 \nQ 3056 4750 3426 4639 \nQ 3797 4528 4122 4306 \nz\n\" transform=\"scale(0.015625)\"/>\n       <path id=\"DejaVuSans-6c\" d=\"M 603 4863 \nL 1178 4863 \nL 1178 0 \nL 603 0 \nL 603 4863 \nz\n\" transform=\"scale(0.015625)\"/>\n       <path id=\"DejaVuSans-6f\" d=\"M 1959 3097 \nQ 1497 3097 1228 2736 \nQ 959 2375 959 1747 \nQ 959 1119 1226 758 \nQ 1494 397 1959 397 \nQ 2419 397 2687 759 \nQ 2956 1122 2956 1747 \nQ 2956 2369 2687 2733 \nQ 2419 3097 1959 3097 \nz\nM 1959 3584 \nQ 2709 3584 3137 3096 \nQ 3566 2609 3566 1747 \nQ 3566 888 3137 398 \nQ 2709 -91 1959 -91 \nQ 1206 -91 779 398 \nQ 353 888 353 1747 \nQ 353 2609 779 3096 \nQ 1206 3584 1959 3584 \nz\n\" transform=\"scale(0.015625)\"/>\n       <path id=\"DejaVuSans-73\" d=\"M 2834 3397 \nL 2834 2853 \nQ 2591 2978 2328 3040 \nQ 2066 3103 1784 3103 \nQ 1356 3103 1142 2972 \nQ 928 2841 928 2578 \nQ 928 2378 1081 2264 \nQ 1234 2150 1697 2047 \nL 1894 2003 \nQ 2506 1872 2764 1633 \nQ 3022 1394 3022 966 \nQ 3022 478 2636 193 \nQ 2250 -91 1575 -91 \nQ 1294 -91 989 -36 \nQ 684 19 347 128 \nL 347 722 \nQ 666 556 975 473 \nQ 1284 391 1588 391 \nQ 1994 391 2212 530 \nQ 2431 669 2431 922 \nQ 2431 1156 2273 1281 \nQ 2116 1406 1581 1522 \nL 1381 1569 \nQ 847 1681 609 1914 \nQ 372 2147 372 2553 \nQ 372 3047 722 3315 \nQ 1072 3584 1716 3584 \nQ 2034 3584 2315 3537 \nQ 2597 3491 2834 3397 \nz\n\" transform=\"scale(0.015625)\"/>\n       <path id=\"DejaVuSans-65\" d=\"M 3597 1894 \nL 3597 1613 \nL 953 1613 \nQ 991 1019 1311 708 \nQ 1631 397 2203 397 \nQ 2534 397 2845 478 \nQ 3156 559 3463 722 \nL 3463 178 \nQ 3153 47 2828 -22 \nQ 2503 -91 2169 -91 \nQ 1331 -91 842 396 \nQ 353 884 353 1716 \nQ 353 2575 817 3079 \nQ 1281 3584 2069 3584 \nQ 2775 3584 3186 3129 \nQ 3597 2675 3597 1894 \nz\nM 3022 2063 \nQ 3016 2534 2758 2815 \nQ 2500 3097 2075 3097 \nQ 1594 3097 1305 2825 \nQ 1016 2553 972 2059 \nL 3022 2063 \nz\n\" transform=\"scale(0.015625)\"/>\n      </defs>\n      <use xlink:href=\"#DejaVuSans-41\"/>\n      <use xlink:href=\"#DejaVuSans-64\" x=\"66.658203\"/>\n      <use xlink:href=\"#DejaVuSans-6a\" x=\"130.134766\"/>\n      <use xlink:href=\"#DejaVuSans-20\" x=\"157.917969\"/>\n      <use xlink:href=\"#DejaVuSans-43\" x=\"189.705078\"/>\n      <use xlink:href=\"#DejaVuSans-6c\" x=\"259.529297\"/>\n      <use xlink:href=\"#DejaVuSans-6f\" x=\"287.3125\"/>\n      <use xlink:href=\"#DejaVuSans-73\" x=\"348.494141\"/>\n      <use xlink:href=\"#DejaVuSans-65\" x=\"400.59375\"/>\n     </g>\n    </g>\n   </g>\n   <g id=\"line2d_19\">\n    <path d=\"M 63.198352 276.242183 \nL 67.909932 276.230578 \nL 68.79891 276.189516 \nL 73.777183 276.249324 \nL 74.132774 276.196657 \nL 74.843956 276.200674 \nL 75.999627 276.164968 \nL 83.022548 276.154702 \nL 83.200344 276.087751 \nL 90.578856 276.079717 \nL 90.667754 276.153809 \nL 92.356811 276.108729 \nL 93.156891 276.089983 \nL 95.379334 276.185945 \nL 96.001618 276.200228 \nL 97.779573 276.221652 \nL 98.579653 276.164968 \nL 98.66855 276.17077 \nL 98.757448 276.057846 \nL 99.646426 276.039546 \nL 100.535403 276.073468 \nL 103.113437 276.029727 \nL 103.735722 275.976611 \nL 106.047063 275.803871 \nL 106.224858 275.817262 \nL 111.736518 275.612377 \nL 112.981087 275.803871 \nL 113.069984 275.873504 \nL 114.936837 275.903856 \nL 115.559121 275.935101 \nL 116.181405 275.724864 \nL 116.803689 275.669514 \nL 118.403849 275.64898 \nL 118.670542 275.574435 \nL 123.559918 275.49587 \nL 123.648815 275.254367 \nL 125.42677 274.97937 \nL 125.871259 275.015532 \nL 126.582441 274.969549 \nL 127.293623 274.919101 \nL 127.38252 275.042317 \nL 128.004805 275.000799 \nL 128.538191 274.901244 \nL 128.627089 274.81374 \nL 129.693862 274.663285 \nL 129.871657 274.643194 \nL 131.471816 274.454783 \nL 131.649612 274.418619 \nL 131.73851 274.269492 \nL 134.138749 274.287351 \nL 134.227646 274.426655 \nL 136.538988 274.037756 \nL 136.716783 274.099375 \nL 138.228045 273.92702 \nL 138.40584 273.862274 \nL 138.583636 273.933718 \nL 138.939227 274.001142 \nL 139.20592 274.067226 \nL 139.561511 273.906926 \nL 139.739306 274.058296 \nL 139.828204 273.15627 \nL 140.094897 273.349637 \nL 140.450488 272.915556 \nL 141.517261 272.967362 \nL 141.695056 273.134834 \nL 142.228443 272.910197 \nL 142.584034 273.083923 \nL 142.672932 273.013362 \nL 142.939625 272.600693 \nL 143.206318 272.546204 \nL 143.384113 272.358616 \nL 143.561909 272.182189 \nL 143.9175 271.845399 \nL 144.006398 272.205862 \nL 144.095295 272.10849 \nL 144.184193 272.317972 \nL 144.539784 272.529232 \nL 144.628682 272.422933 \nL 144.806477 272.480549 \nL 145.162068 272.330031 \nL 145.428762 272.46581 \nL 145.87325 272.487249 \nL 146.051046 272.439905 \nL 146.495534 272.271073 \nL 146.67333 272.093303 \nL 147.028921 272.208988 \nL 147.206716 271.931608 \nL 147.295614 271.976723 \nL 147.740103 271.787776 \nL 148.273489 272.226855 \nL 148.984671 272.138416 \nL 149.073569 272.59712 \nL 149.162467 272.553797 \nL 149.42916 272.42204 \nL 149.695853 272.663667 \nL 150.051444 272.723067 \nL 150.318137 272.684212 \nL 150.940421 272.448838 \nL 151.296012 272.196929 \nL 151.38491 272.355044 \nL 151.562706 272.302339 \nL 152.273887 272.220155 \nL 152.540581 272.244721 \nL 152.718376 272.617665 \nL 152.896172 272.604266 \nL 153.429558 272.820429 \nL 154.14074 272.543971 \nL 155.029717 272.322438 \nL 155.207513 272.429186 \nL 155.740899 272.487696 \nL 155.918695 271.435329 \nL 156.274286 271.086435 \nL 156.363183 270.974749 \nL 156.452081 271.38083 \nL 156.629877 271.010935 \nL 156.89657 270.881378 \nL 157.074365 270.896121 \nL 157.163263 270.90997 \nL 157.252161 270.750031 \nL 157.785547 270.637445 \nL 157.874445 270.669613 \nL 158.318934 270.424778 \nL 158.407832 269.941336 \nL 158.496729 270.403332 \nL 159.119013 270.31308 \nL 159.563502 269.962337 \nL 159.6524 270.011486 \nL 159.741298 270.214338 \nL 160.007991 270.2894 \nL 160.096889 270.538261 \nL 160.185786 270.307272 \nL 160.363582 270.62851 \nL 160.630275 270.862168 \nL 161.341457 270.122743 \nL 161.430355 269.826502 \nL 161.519252 269.910505 \nL 161.60815 269.717474 \nL 162.052639 269.710772 \nL 162.230434 269.57672 \nL 163.119412 269.826502 \nL 163.475003 269.616488 \nL 163.741696 269.386807 \nL 163.830594 269.478412 \nL 163.919491 269.397531 \nL 164.097287 270.119168 \nL 164.36398 269.563314 \nL 164.452878 269.626766 \nL 164.986264 269.976635 \nL 165.252957 269.706751 \nL 165.341855 269.768413 \nL 165.786344 269.684855 \nL 165.964139 269.471263 \nL 166.408628 269.679047 \nL 166.497526 269.644639 \nL 166.586424 269.773776 \nL 167.030912 269.475284 \nL 167.11981 269.518629 \nL 167.208708 269.040035 \nL 167.564299 268.716484 \nL 167.653196 268.783967 \nL 167.830992 269.089639 \nL 168.186583 269.404235 \nL 168.453276 269.099917 \nL 169.07556 268.986856 \nL 169.608947 268.552021 \nL 169.697844 268.392918 \nL 170.142333 268.259286 \nL 170.67572 268.210123 \nL 170.764617 268.434482 \nL 170.853515 268.343756 \nL 170.942413 268.067995 \nL 171.83139 267.72071 \nL 171.920288 267.613436 \nL 172.098083 267.91335 \nL 172.186981 267.429726 \nL 172.720368 267.632209 \nL 172.809265 267.643383 \nL 173.43155 267.393074 \nL 173.78714 267.672437 \nL 173.876038 268.31113 \nL 173.964936 268.119394 \nL 174.409425 268.699055 \nL 174.942811 268.38979 \nL 175.209504 268.755812 \nL 175.298402 268.528335 \nL 175.565095 268.244984 \nL 175.742891 268.294146 \nL 175.920686 268.362527 \nL 176.454073 268.267331 \nL 176.54297 268.441632 \nL 176.898561 268.180178 \nL 177.076357 267.543708 \nL 177.698641 267.07481 \nL 178.14313 267.252271 \nL 178.409823 266.805259 \nL 178.676516 266.645222 \nL 178.765414 266.411865 \nL 178.943209 266.526309 \nL 179.032107 266.214267 \nL 179.2988 266.0569 \nL 179.387698 266.241538 \nL 179.476596 266.103842 \nL 179.921085 267.53879 \nL 180.09888 266.863819 \nL 180.187778 267.368042 \nL 180.276675 266.717194 \nL 180.543369 266.89824 \nL 180.810062 266.072547 \nL 180.89896 266.191466 \nL 181.254551 265.957202 \nL 181.343448 266.295632 \nL 181.432346 266.26702 \nL 181.521244 266.09803 \nL 181.876835 266.092218 \nL 181.965733 266.273725 \nL 182.05463 266.711382 \nL 182.143528 266.517816 \nL 182.410221 266.557602 \nL 182.588017 266.280879 \nL 182.676914 266.310384 \nL 182.765812 266.124854 \nL 183.032505 265.926801 \nL 183.210301 265.972403 \nL 183.388096 265.894611 \nL 183.65479 266.318431 \nL 183.743687 265.934848 \nL 183.832585 265.98045 \nL 184.010381 266.677408 \nL 184.277074 266.162855 \nL 184.454869 267.196842 \nL 184.543767 266.739098 \nL 184.899358 267.210253 \nL 185.077153 266.978255 \nL 185.254949 267.514207 \nL 185.521642 267.462356 \nL 185.61054 266.903603 \nL 185.699438 266.978255 \nL 185.788335 266.604542 \nL 185.877233 266.743122 \nL 186.143926 266.743569 \nL 186.232824 266.473111 \nL 186.321722 266.525416 \nL 186.499517 266.867842 \nL 186.855108 267.203547 \nL 186.944006 267.406483 \nL 187.121801 266.974233 \nL 187.388495 267.038155 \nL 187.655188 266.676514 \nL 187.744086 266.40516 \nL 188.277472 265.463166 \nL 188.36637 265.713542 \nL 188.633063 265.676433 \nL 188.721961 266.114572 \nL 188.810858 266.094454 \nL 188.899756 266.018451 \nL 188.988654 266.097583 \nL 189.344245 266.242431 \nL 189.52204 266.019346 \nL 189.610938 265.948261 \nL 189.966529 265.979109 \nL 190.233222 265.57539 \nL 190.588813 265.242293 \nL 190.766609 265.339317 \nL 191.1222 265.441258 \nL 191.477791 265.233799 \nL 191.744484 265.241399 \nL 191.833382 265.461378 \nL 191.922279 265.365697 \nL 192.366768 266.402477 \nL 192.455666 266.274173 \nL 192.544564 266.554473 \nL 192.633461 266.32469 \nL 192.722359 266.501722 \nL 192.989052 266.262996 \nL 193.07795 266.504404 \nL 193.344643 266.03544 \nL 193.611336 265.949602 \nL 193.700234 265.770769 \nL 193.789132 266.026499 \nL 193.87803 265.86108 \nL 193.966927 265.946473 \nL 194.233621 265.996545 \nL 194.322518 265.751097 \nL 194.589212 265.876281 \nL 194.944803 265.973744 \nL 195.122598 265.699682 \nL 195.567087 266.145866 \nL 196.367166 265.627253 \nL 196.456064 265.701917 \nL 196.722757 265.642454 \nL 196.811655 265.405043 \nL 196.989451 265.583437 \nL 197.078348 266.147654 \nL 197.345042 266.012639 \nL 197.700632 264.922597 \nL 198.678508 264.409268 \nL 198.945201 264.938694 \nL 199.211894 264.810366 \nL 199.38969 265.102344 \nL 199.478587 264.961945 \nL 199.567485 264.734351 \nL 200.011974 264.933329 \nL 200.189769 265.314726 \nL 200.723156 265.138114 \nL 200.812053 264.529108 \nL 201.078747 264.156169 \nL 201.34544 264.606465 \nL 201.434338 265.028121 \nL 201.789928 265.221278 \nL 201.967724 266.580848 \nL 202.056622 266.070759 \nL 202.323315 266.569672 \nL 202.412213 266.102501 \nL 202.50111 266.226338 \nL 202.590008 266.384149 \nL 202.678906 266.847279 \nL 202.945599 266.755639 \nL 203.30119 268.227553 \nL 203.567883 268.793798 \nL 203.834577 267.341669 \nL 203.923474 267.484259 \nL 204.279065 267.656792 \nL 204.367963 267.534768 \nL 204.545758 267.897707 \nL 204.812452 268.618611 \nL 204.901349 268.181966 \nL 204.990247 268.276716 \nL 205.079145 268.044307 \nL 205.168043 269.74071 \nL 205.434736 270.622255 \nL 205.523634 270.426565 \nL 205.612531 270.621808 \nL 205.790327 270.608852 \nL 206.679304 269.490031 \nL 206.768202 270.067785 \nL 206.945997 270.015061 \nL 207.034895 270.492243 \nL 207.301588 270.302357 \nL 207.479384 270.434607 \nL 207.657179 270.544069 \nL 207.923873 270.672294 \nL 208.01277 270.522177 \nL 208.279463 271.298186 \nL 208.546157 271.409419 \nL 208.723952 271.14049 \nL 208.81285 271.22671 \nL 208.901748 271.11592 \nL 209.168441 271.122621 \nL 209.346236 271.001107 \nL 209.435134 271.368768 \nL 209.524032 271.002447 \nL 209.790725 270.680335 \nL 209.879623 270.83983 \nL 210.146316 270.437735 \nL 210.501907 270.391269 \nL 210.590805 270.437288 \nL 210.7686 270.075828 \nL 211.213089 270.417183 \nL 211.390884 269.931953 \nL 211.746475 271.207501 \nL 212.013169 270.620915 \nL 212.457657 270.251422 \nL 212.546555 270.500732 \nL 212.635453 270.467223 \nL 212.902146 270.544069 \nL 213.168839 270.183062 \nL 213.257737 270.057508 \nL 213.791123 270.127658 \nL 213.880021 269.974847 \nL 214.235612 270.068232 \nL 214.413408 270.195125 \nL 214.502305 270.097274 \nL 214.857896 270.094147 \nL 215.035692 270.418523 \nL 215.124589 270.356866 \nL 215.569078 269.553484 \nL 215.657976 269.690218 \nL 215.746874 269.500308 \nL 216.013567 269.538737 \nL 216.28026 268.868877 \nL 216.369158 269.15667 \nL 216.635851 269.322906 \nL 216.813647 269.201358 \nL 217.347033 268.910885 \nL 217.524828 268.675816 \nL 217.613726 268.555597 \nL 217.880419 268.518055 \nL 217.969317 268.631125 \nL 218.147113 268.529229 \nL 218.502704 268.834913 \nL 218.680499 268.719166 \nL 218.769397 268.763409 \nL 219.302783 268.545764 \nL 219.480579 269.130305 \nL 219.925067 269.023947 \nL 220.102863 268.910438 \nL 220.369556 269.051654 \nL 220.458454 269.352845 \nL 220.547352 269.31665 \nL 220.99184 270.007912 \nL 221.080738 269.847502 \nL 221.347431 270.0937 \nL 221.614124 270.307272 \nL 221.703022 270.159381 \nL 221.969715 270.60215 \nL 222.414204 270.817045 \nL 222.858693 271.110112 \nL 222.947591 270.698206 \nL 223.036488 270.77505 \nL 223.214284 270.586513 \nL 223.569875 270.351951 \nL 223.658772 270.555239 \nL 223.74767 270.463202 \nL 223.836568 270.624936 \nL 224.103261 270.607511 \nL 224.281057 270.246061 \nL 224.369954 270.202274 \nL 224.458852 270.306825 \nL 224.814443 270.319336 \nL 224.992239 269.79433 \nL 225.34783 269.66296 \nL 225.525625 269.815778 \nL 226.059011 270.058849 \nL 226.325705 269.598615 \nL 226.681296 269.622298 \nL 226.859091 269.483775 \nL 226.947989 269.561527 \nL 227.214682 269.432833 \nL 227.392478 269.104833 \nL 227.481375 269.340781 \nL 227.570273 269.26526 \nL 227.925864 269.248279 \nL 228.192557 269.885483 \nL 228.45925 270.350164 \nL 228.725944 270.016401 \nL 228.814841 270.1987 \nL 229.081535 270.320676 \nL 229.170432 270.115147 \nL 229.348228 270.440416 \nL 229.437126 269.958315 \nL 229.703819 269.456964 \nL 229.792717 269.586997 \nL 229.970512 269.425683 \nL 230.05941 269.82963 \nL 230.326103 269.695133 \nL 230.503898 269.884143 \nL 230.681694 269.603084 \nL 231.037285 269.752328 \nL 231.126183 269.547228 \nL 231.21508 269.056569 \nL 231.303978 269.10528 \nL 231.926262 268.958255 \nL 232.459649 269.181695 \nL 232.548546 269.371614 \nL 232.81524 269.275538 \nL 232.904137 269.378763 \nL 232.993035 269.124049 \nL 233.081933 269.163821 \nL 233.170831 269.413171 \nL 233.615319 269.355973 \nL 233.793115 268.956914 \nL 234.059808 268.851448 \nL 234.148706 269.168736 \nL 234.415399 268.777262 \nL 234.682092 268.75313 \nL 234.77099 268.313365 \nL 234.859888 268.409901 \nL 234.948785 268.406325 \nL 235.037683 268.576155 \nL 235.393274 268.347331 \nL 235.57107 268.291465 \nL 235.659967 267.948212 \nL 235.926661 267.847647 \nL 236.104456 268.017044 \nL 236.193354 268.105539 \nL 236.282252 268.035368 \nL 236.637842 267.721603 \nL 236.815638 267.778368 \nL 237.171229 267.785519 \nL 237.437922 267.713558 \nL 237.52682 267.963856 \nL 237.793513 267.602261 \nL 237.882411 267.794012 \nL 238.060206 267.696126 \nL 238.149104 267.664391 \nL 238.415797 267.2031 \nL 238.504695 267.391285 \nL 238.593593 267.335859 \nL 238.771388 267.402907 \nL 239.126979 267.808761 \nL 239.393672 267.607179 \nL 239.749263 267.526275 \nL 240.015957 267.078833 \nL 240.28265 267.02698 \nL 240.638241 266.391301 \nL 241.260525 266.503063 \nL 241.527218 266.706465 \nL 241.793911 266.367161 \nL 241.882809 266.538826 \nL 242.149502 266.494569 \nL 242.505093 266.170008 \nL 242.771787 265.827549 \nL 242.949582 266.114125 \nL 243.127377 265.948261 \nL 243.571866 265.911153 \nL 243.660764 265.788206 \nL 244.016355 266.354196 \nL 244.105253 266.006827 \nL 244.283048 266.103395 \nL 244.371946 266.522733 \nL 244.638639 266.348384 \nL 244.905332 265.72606 \nL 244.99423 265.844985 \nL 245.438719 264.908289 \nL 245.527616 264.986985 \nL 245.616514 264.136941 \nL 245.972105 263.833747 \nL 246.061003 263.022942 \nL 246.149901 263.291281 \nL 246.238798 263.945546 \nL 246.772185 265.799829 \nL 246.861083 265.018731 \nL 247.127776 264.734351 \nL 247.216673 265.205629 \nL 247.305571 264.373048 \nL 247.483367 265.198923 \nL 247.75006 266.119936 \nL 247.838958 265.420692 \nL 248.016753 267.422128 \nL 248.105651 266.325584 \nL 248.372344 268.312024 \nL 248.461242 267.379217 \nL 248.55014 268.025089 \nL 248.639037 267.57142 \nL 248.727935 267.894131 \nL 248.994628 267.583936 \nL 249.083526 265.952732 \nL 249.172424 266.111889 \nL 249.261322 265.592379 \nL 249.350219 265.794017 \nL 249.616912 265.219043 \nL 249.70581 265.308019 \nL 249.794708 266.225891 \nL 249.883606 265.671514 \nL 249.972503 266.188337 \nL 250.239197 265.093402 \nL 250.328094 265.512348 \nL 250.416992 265.158235 \nL 250.50589 265.337082 \nL 250.861481 265.028568 \nL 251.128174 263.917373 \nL 251.483765 264.259467 \nL 251.572663 265.04377 \nL 251.66156 264.299713 \nL 251.750458 264.395407 \nL 251.839356 264.145884 \nL 252.106049 263.81094 \nL 252.194947 264.066733 \nL 252.283845 263.749226 \nL 252.46164 264.450408 \nL 252.906129 263.779189 \nL 253.083924 263.121334 \nL 253.350618 262.668721 \nL 253.528413 263.179474 \nL 253.972902 261.443601 \nL 254.061799 261.344743 \nL 254.150697 261.0504 \nL 254.239595 261.398868 \nL 254.328493 260.949749 \nL 254.684084 261.501753 \nL 254.861879 261.914613 \nL 254.950777 261.219492 \nL 255.484163 261.414524 \nL 255.573061 261.139867 \nL 255.839754 261.345637 \nL 256.01755 260.340452 \nL 256.106447 261.361293 \nL 256.195345 261.117501 \nL 256.462038 260.685814 \nL 256.550936 260.874149 \nL 256.639834 260.574423 \nL 256.728732 260.606632 \nL 256.817629 260.52924 \nL 257.084323 260.054132 \nL 257.17322 260.191477 \nL 257.262118 260.575317 \nL 257.351016 260.119896 \nL 257.439914 260.719366 \nL 257.706607 260.638842 \nL 257.884402 260.048315 \nL 258.328891 259.494888 \nL 258.417789 259.436725 \nL 258.595584 258.296216 \nL 258.684482 258.349463 \nL 258.951175 259.11369 \nL 259.040073 258.532471 \nL 259.217868 258.966038 \nL 259.306766 258.846575 \nL 259.573459 258.293084 \nL 259.662357 258.619276 \nL 259.751255 258.42195 \nL 259.840153 258.974987 \nL 259.92905 258.859103 \nL 260.195743 258.452824 \nL 260.284641 258.821518 \nL 260.462437 258.108281 \nL 260.551334 258.106939 \nL 261.084721 256.816822 \nL 261.173619 257.060268 \nL 261.440312 257.122024 \nL 261.52921 257.685865 \nL 261.707005 256.624388 \nL 261.795903 256.407785 \nL 262.062596 255.023939 \nL 262.329289 255.374838 \nL 262.418187 254.403576 \nL 262.862676 254.243334 \nL 262.951573 254.502496 \nL 263.040471 253.572354 \nL 263.307164 253.166347 \nL 263.48496 251.425813 \nL 263.662755 254.51279 \nL 264.018346 255.783014 \nL 264.107244 254.347178 \nL 264.28504 255.332766 \nL 264.64063 253.853014 \nL 264.818426 254.797461 \nL 264.907324 255.288457 \nL 265.262915 254.485488 \nL 265.351812 255.405721 \nL 265.44071 255.004246 \nL 265.529608 254.062947 \nL 265.796301 253.774233 \nL 266.062994 252.736605 \nL 266.151892 253.725442 \nL 266.596381 252.11077 \nL 266.774176 252.471144 \nL 267.129767 251.601756 \nL 267.663154 252.945658 \nL 267.752051 252.681095 \nL 267.929847 253.19052 \nL 268.018745 252.780027 \nL 268.285438 253.583992 \nL 268.374336 253.126507 \nL 268.463233 254.504734 \nL 268.552131 253.793928 \nL 268.641029 254.671239 \nL 268.907722 254.587539 \nL 269.263313 251.039897 \nL 269.530006 252.707508 \nL 269.618904 254.248704 \nL 269.796699 253.019073 \nL 269.885597 253.305116 \nL 270.15229 252.914323 \nL 270.330086 253.069209 \nL 270.418984 253.048617 \nL 270.507881 253.679783 \nL 270.774575 253.586229 \nL 270.863472 253.912547 \nL 270.95237 253.416578 \nL 271.130165 253.369129 \nL 271.574654 252.861947 \nL 271.663552 253.127851 \nL 271.75245 252.837326 \nL 272.019143 252.750483 \nL 272.196938 253.96089 \nL 272.285836 253.886586 \nL 272.374734 253.813175 \nL 272.730325 253.191415 \nL 272.819223 253.4027 \nL 272.90812 253.225883 \nL 272.997018 253.349879 \nL 273.263711 253.242 \nL 273.352609 253.338689 \nL 273.530404 253.848091 \nL 273.974893 253.93851 \nL 274.063791 253.575934 \nL 274.152689 253.738422 \nL 274.50828 253.633679 \nL 274.597177 253.112183 \nL 274.686075 254.527114 \nL 274.774973 253.22096 \nL 274.863871 253.341375 \nL 275.130564 252.72407 \nL 275.219462 252.968936 \nL 275.308359 252.884779 \nL 275.486155 254.088461 \nL 275.841746 253.791689 \nL 276.019541 252.28357 \nL 276.108439 252.561124 \nL 276.375132 252.667219 \nL 276.46403 253.05757 \nL 276.552928 253.984166 \nL 276.641825 253.745585 \nL 276.730723 253.855252 \nL 276.997416 253.412548 \nL 277.086314 252.840012 \nL 277.175212 252.887016 \nL 277.26411 252.647521 \nL 277.353007 252.778685 \nL 277.6197 251.260614 \nL 277.708598 251.574894 \nL 277.886394 249.80643 \nL 277.975291 250.324899 \nL 278.330882 249.664049 \nL 278.508678 250.561742 \nL 278.597576 250.387132 \nL 278.953167 251.792022 \nL 279.042064 251.152719 \nL 279.130962 253.286315 \nL 279.21986 252.557541 \nL 279.486553 252.32968 \nL 279.753246 254.964411 \nL 279.842144 254.801041 \nL 280.108837 256.355423 \nL 280.197735 254.695857 \nL 280.286633 254.788956 \nL 280.37553 253.848538 \nL 280.464428 254.094727 \nL 280.908917 253.225883 \nL 280.997815 254.33375 \nL 281.086712 254.113079 \nL 281.353406 253.503419 \nL 281.442303 253.710222 \nL 281.620099 254.669002 \nL 281.708997 254.124718 \nL 281.97569 253.929557 \nL 282.064587 254.066528 \nL 282.242383 252.3834 \nL 282.597974 252.068688 \nL 282.686872 252.294315 \nL 283.309156 249.038546 \nL 283.398054 249.759416 \nL 283.486951 248.218688 \nL 283.93144 249.948808 \nL 284.020338 249.609871 \nL 284.109235 250.523687 \nL 284.198133 249.78046 \nL 284.464826 249.399433 \nL 284.642622 249.759865 \nL 284.73152 249.673899 \nL 284.820417 250.23849 \nL 285.087111 250.547864 \nL 285.176008 251.417308 \nL 285.264906 251.225246 \nL 285.353804 251.10974 \nL 285.442702 250.59174 \nL 285.976088 252.645731 \nL 286.064986 251.611158 \nL 286.331679 251.749941 \nL 286.420577 252.018101 \nL 286.509474 251.928565 \nL 286.68727 250.270278 \nL 287.042861 249.095411 \nL 287.131759 249.00183 \nL 287.220656 249.381523 \nL 287.309554 248.026595 \nL 287.665145 247.990772 \nL 287.931838 245.637566 \nL 288.198532 245.564573 \nL 288.376327 246.031652 \nL 288.465225 245.912084 \nL 288.554122 245.19511 \nL 288.820816 244.848487 \nL 288.909713 245.260943 \nL 288.998611 245.221983 \nL 289.087509 243.70468 \nL 289.176407 243.73782 \nL 289.4431 244.116706 \nL 289.620895 242.988099 \nL 289.709793 242.72251 \nL 289.798691 243.035123 \nL 290.154282 241.251213 \nL 290.24318 241.294659 \nL 290.420975 240.426637 \nL 290.776566 240.04771 \nL 290.954361 241.473368 \nL 291.043259 241.209114 \nL 291.309952 240.380949 \nL 291.487748 241.583102 \nL 291.665543 244.593665 \nL 291.932237 243.485226 \nL 292.021134 243.785742 \nL 292.19893 242.026508 \nL 292.287828 242.091001 \nL 292.643418 242.71803 \nL 292.821214 241.904682 \nL 292.910112 242.196701 \nL 293.265703 241.630576 \nL 293.443498 240.157896 \nL 293.532396 240.643421 \nL 293.799089 240.770623 \nL 293.976885 241.838397 \nL 294.15468 240.962323 \nL 294.421373 241.388716 \nL 294.599169 243.018998 \nL 295.043657 237.791106 \nL 295.132555 238.086738 \nL 295.221453 237.33422 \nL 295.310351 237.594017 \nL 295.399248 236.576318 \nL 295.665942 236.483148 \nL 295.754839 237.026042 \nL 295.843737 236.925706 \nL 295.932635 237.006334 \nL 296.021533 236.205426 \nL 296.377124 236.529731 \nL 296.554919 237.398721 \nL 296.643817 236.859411 \nL 296.91051 237.443513 \nL 297.088305 237.10488 \nL 297.177203 237.282258 \nL 297.532794 239.305074 \nL 297.621692 239.066785 \nL 297.799487 236.852244 \nL 297.888385 237.570727 \nL 298.155078 238.325032 \nL 298.332874 240.372888 \nL 298.510669 239.969773 \nL 298.777363 241.779275 \nL 299.044056 239.373157 \nL 299.132953 239.81032 \nL 299.488544 240.09698 \nL 299.577442 239.616824 \nL 299.755238 237.96311 \nL 300.110829 237.196255 \nL 300.199726 237.531307 \nL 300.377522 236.415061 \nL 300.644215 235.626689 \nL 300.733113 232.847631 \nL 300.822011 233.324248 \nL 300.999806 231.324591 \nL 301.266499 230.858718 \nL 301.444295 229.477227 \nL 301.533192 223.738117 \nL 301.62209 223.825912 \nL 301.888783 221.941011 \nL 301.977681 222.204395 \nL 302.066579 224.350899 \nL 302.244374 222.682785 \nL 302.511068 223.336767 \nL 302.599965 223.017839 \nL 302.688863 224.705668 \nL 302.866659 218.033409 \nL 303.22225 220.253242 \nL 303.311147 218.5906 \nL 303.488943 220.688618 \nL 303.755636 217.332901 \nL 304.111227 222.139891 \nL 304.37792 223.315265 \nL 304.466818 219.033134 \nL 305.000204 226.67663 \nL 305.089102 226.361274 \nL 305.178 222.559155 \nL 305.355795 227.321676 \nL 305.622488 227.468605 \nL 305.800284 224.456613 \nL 305.889182 224.026591 \nL 306.244773 221.688382 \nL 306.511466 224.123344 \nL 306.600364 224.436904 \nL 306.867057 223.164759 \nL 307.222648 228.314339 \nL 307.489341 228.040192 \nL 307.667137 226.966899 \nL 307.756034 229.518437 \nL 307.844932 228.860843 \nL 308.200523 230.72254 \nL 308.467216 235.254001 \nL 308.733909 235.257586 \nL 308.822807 237.135339 \nL 308.911705 236.332642 \nL 309.000603 237.816189 \nL 309.356194 233.261535 \nL 309.445091 232.989181 \nL 309.533989 231.906928 \nL 309.622887 234.225521 \nL 309.711785 233.560765 \nL 309.978478 232.827918 \nL 310.067375 232.147032 \nL 310.156273 229.285502 \nL 310.334069 234.22373 \nL 310.600762 233.653939 \nL 310.778557 229.633115 \nL 310.956353 234.773806 \nL 311.311944 235.225335 \nL 311.400842 237.022461 \nL 311.578637 233.851037 \nL 311.84533 233.442507 \nL 311.934228 235.069451 \nL 312.023126 233.738155 \nL 312.467614 238.87687 \nL 312.556512 238.586618 \nL 312.64541 235.899037 \nL 312.734308 236.536898 \nL 312.823205 237.536683 \nL 313.089899 238.916285 \nL 313.44549 229.737041 \nL 313.712183 229.233541 \nL 313.801081 229.60982 \nL 313.889978 231.204537 \nL 313.978876 226.69634 \nL 314.067774 227.516985 \nL 314.334467 226.572705 \nL 314.423365 225.789692 \nL 314.690058 229.272959 \nL 314.956751 228.111863 \nL 315.312342 235.710903 \nL 315.667933 238.604535 \nL 315.756831 237.352138 \nL 315.845729 239.045286 \nL 316.20132 238.104652 \nL 316.290217 237.361095 \nL 316.55691 242.168039 \nL 316.823604 241.474711 \nL 317.001399 244.138649 \nL 317.090297 241.689699 \nL 317.179195 243.902182 \nL 317.623683 240.700752 \nL 317.801479 243.672882 \nL 318.068172 246.762926 \nL 318.15707 245.607564 \nL 318.334865 248.151077 \nL 318.423763 245.408728 \nL 318.690456 246.200478 \nL 318.779354 244.565002 \nL 318.868252 246.784422 \nL 318.957149 246.451252 \nL 319.046047 247.221473 \nL 319.31274 246.856069 \nL 319.401638 248.18869 \nL 319.668331 243.429243 \nL 320.023922 243.678254 \nL 320.11282 244.308834 \nL 320.201718 242.030092 \nL 320.290616 243.592267 \nL 320.557309 243.474032 \nL 320.646206 243.223226 \nL 320.824002 244.796088 \nL 320.9129 246.719936 \nL 321.179593 249.096753 \nL 321.268491 248.758248 \nL 321.357388 247.520598 \nL 321.446286 249.17914 \nL 321.535184 248.679443 \nL 321.890775 247.450744 \nL 322.06857 248.06152 \nL 322.157468 246.447672 \nL 322.424161 246.908016 \nL 322.690855 249.970747 \nL 322.779752 251.10974 \nL 323.224241 250.022684 \nL 323.313139 248.718847 \nL 323.402036 248.754667 \nL 323.757627 250.108648 \nL 323.846525 249.961793 \nL 324.291014 248.283617 \nL 324.557707 244.792507 \nL 324.646605 246.101958 \nL 324.913298 246.630376 \nL 325.002196 247.50985 \nL 325.179991 244.910737 \nL 325.268889 244.590081 \nL 325.62448 243.939805 \nL 325.802275 242.70549 \nL 325.891173 243.110364 \nL 326.246764 246.519319 \nL 326.335662 244.708311 \nL 326.42456 244.985973 \nL 326.513457 243.611973 \nL 326.780151 243.033332 \nL 326.869048 243.307426 \nL 326.957946 244.281964 \nL 327.046844 243.497318 \nL 327.135741 245.152566 \nL 327.402435 246.612464 \nL 327.58023 246.275711 \nL 327.669128 245.037921 \nL 327.758026 247.998831 \nL 328.113617 249.417341 \nL 328.202514 250.087157 \nL 328.38031 252.678409 \nL 328.735901 253.0043 \nL 329.002594 251.353287 \nL 329.269287 251.141974 \nL 329.447083 253.607716 \nL 329.53598 253.964024 \nL 329.624878 253.48238 \nL 329.891571 253.152918 \nL 329.980469 253.521772 \nL 330.069367 253.369576 \nL 330.247162 254.703467 \nL 330.513856 255.219083 \nL 330.691651 254.309579 \nL 330.869447 255.378418 \nL 331.13614 254.710628 \nL 331.313935 253.462684 \nL 331.402833 253.604135 \nL 331.491731 255.491205 \nL 331.936219 256.522352 \nL 332.025117 255.698874 \nL 332.114015 257.011042 \nL 332.558504 255.535962 \nL 333.002992 254.554865 \nL 333.09189 253.369576 \nL 333.180788 254.023109 \nL 333.269686 253.521772 \nL 333.358583 252.343559 \nL 333.625276 252.947002 \nL 333.714174 252.864633 \nL 333.803072 253.444779 \nL 333.89197 253.083087 \nL 333.980867 251.766952 \nL 334.247561 251.507295 \nL 334.336458 250.968265 \nL 334.425356 252.447417 \nL 334.603152 247.878827 \nL 334.869845 247.936142 \nL 334.958743 247.271626 \nL 335.136538 249.043023 \nL 335.225436 249.523009 \nL 335.492129 249.687778 \nL 335.669925 247.53493 \nL 336.203311 249.111082 \nL 336.381106 246.431549 \nL 336.470004 246.895478 \nL 336.736697 247.371931 \nL 336.825595 248.487799 \nL 336.914493 248.249584 \nL 337.003391 246.370646 \nL 337.092288 246.671576 \nL 337.358982 245.715041 \nL 337.447879 244.753095 \nL 337.714573 247.441789 \nL 338.070163 248.312276 \nL 338.159061 247.56717 \nL 338.336857 249.886573 \nL 338.781345 251.981839 \nL 338.959141 250.946775 \nL 339.314732 251.482224 \nL 339.40363 250.705013 \nL 339.492527 251.571761 \nL 339.581425 250.508017 \nL 340.5593 245.415893 \nL 340.737096 247.094301 \nL 340.825993 245.170479 \nL 341.181584 242.615917 \nL 341.270482 242.512008 \nL 341.448278 240.645212 \nL 341.714971 242.800438 \nL 341.803869 242.128623 \nL 341.981664 238.237239 \nL 342.070562 239.328366 \nL 342.337255 239.348074 \nL 342.51505 237.348553 \nL 342.603948 237.112046 \nL 342.692846 239.032745 \nL 342.959539 238.095695 \nL 343.048437 235.976081 \nL 343.137335 236.346975 \nL 343.31513 238.812368 \nL 343.670721 240.125644 \nL 343.759619 239.948275 \nL 343.848517 234.734388 \nL 343.937414 235.411679 \nL 344.204108 235.026448 \nL 344.381903 236.46523 \nL 344.559698 234.329446 \nL 344.826392 234.931481 \nL 344.915289 235.408094 \nL 345.004187 233.808034 \nL 345.181983 235.986833 \nL 345.448676 235.985042 \nL 345.715369 231.371176 \nL 345.804267 231.041482 \nL 346.07096 230.727915 \nL 346.248756 229.710162 \nL 346.337653 228.41468 \nL 346.426551 229.152909 \nL 346.782142 229.814088 \nL 347.048835 227.36468 \nL 347.315528 227.027821 \nL 347.493324 228.970141 \nL 347.582222 228.690618 \nL 347.937813 227.719457 \nL 348.204506 229.719123 \nL 348.293404 229.190537 \nL 348.560097 228.753331 \nL 348.737892 227.088743 \nL 348.82679 228.570568 \nL 348.915688 228.543692 \nL 349.182381 228.681661 \nL 349.271279 230.116906 \nL 349.537972 227.41485 \nL 349.804665 225.33458 \nL 350.071358 227.749918 \nL 350.160256 225.746689 \nL 350.426949 224.902764 \nL 350.515847 225.941996 \nL 350.604745 225.379374 \nL 350.78254 226.355898 \nL 351.138131 224.791674 \nL 351.315927 220.375076 \nL 351.404824 221.116831 \nL 351.671518 221.274498 \nL 351.849313 222.417608 \nL 352.027109 207.354932 \nL 352.3827 205.268287 \nL 352.471597 209.346752 \nL 352.560495 205.879043 \nL 352.649393 206.672506 \nL 352.916086 206.951919 \nL 353.004984 207.877954 \nL 353.093881 209.989819 \nL 353.271677 207.670175 \nL 353.53837 206.394884 \nL 353.716166 200.09965 \nL 353.805063 200.715695 \nL 353.893961 200.64585 \nL 354.249552 198.647341 \nL 354.516245 201.510836 \nL 354.782939 204.335157 \nL 354.871836 202.107203 \nL 355.049632 203.994868 \nL 355.13853 201.344288 \nL 355.405223 201.145502 \nL 355.583018 201.317419 \nL 355.671916 201.700668 \nL 355.760814 200.984325 \nL 356.027507 201.56277 \nL 356.116405 201.159828 \nL 356.2942 194.763444 \nL 356.383098 195.67305 \nL 356.649791 193.896837 \nL 356.738689 192.047296 \nL 356.827587 192.793904 \nL 357.005382 197.750195 \nL 357.272075 197.207618 \nL 357.360973 195.29703 \nL 357.449871 195.703493 \nL 357.627666 193.379384 \nL 357.894359 193.416984 \nL 357.983257 193.814472 \nL 358.072155 197.821818 \nL 358.161053 197.381313 \nL 358.24995 197.085852 \nL 358.516644 195.766164 \nL 358.605541 197.1145 \nL 358.872235 203.935763 \nL 359.227826 198.410965 \nL 359.405621 199.478245 \nL 359.494519 199.558834 \nL 359.761212 192.990855 \nL 359.85011 195.316729 \nL 360.027905 192.639929 \nL 360.116803 194.690031 \nL 360.383496 193.227196 \nL 360.561292 188.878403 \nL 360.650189 188.71549 \nL 360.739087 190.230075 \nL 361.094678 190.16025 \nL 361.361371 195.488625 \nL 361.628065 196.194114 \nL 361.716962 196.745632 \nL 361.894758 195.472505 \nL 361.983655 198.482589 \nL 362.250349 198.364404 \nL 362.339246 199.163073 \nL 362.517042 203.645626 \nL 362.60594 202.583585 \nL 362.872633 201.487554 \nL 362.961531 202.044522 \nL 363.494917 196.903203 \nL 363.583815 199.168449 \nL 363.76161 197.071528 \nL 363.850508 195.148413 \nL 364.117201 196.024011 \nL 364.383894 193.030244 \nL 364.472792 195.68738 \nL 364.739485 194.552161 \nL 365.006179 201.704247 \nL 365.095076 202.982964 \nL 365.450667 198.906999 \nL 365.628463 204.883211 \nL 365.984054 203.387723 \nL 366.072951 204.07009 \nL 366.339645 196.503892 \nL 366.695236 194.802835 \nL 366.961929 190.541593 \nL 367.228622 190.03135 \nL 367.31752 188.17663 \nL 367.406418 189.551546 \nL 367.495315 188.491709 \nL 367.584213 188.817533 \nL 367.850906 186.828606 \nL 367.939804 187.661043 \nL 368.206497 191.542402 \nL 368.47319 190.708092 \nL 368.562088 191.461838 \nL 368.650986 190.89071 \nL 368.828781 193.352528 \nL 369.095475 195.599642 \nL 369.184372 193.708829 \nL 369.27327 195.612176 \nL 369.451066 192.02581 \nL 369.717759 193.599615 \nL 369.895554 190.983805 \nL 370.07335 189.547967 \nL 370.340043 187.422948 \nL 370.428941 188.269718 \nL 370.517838 190.942629 \nL 370.606736 189.368934 \nL 370.695634 189.655381 \nL 371.317918 188.416519 \nL 371.762407 191.913015 \nL 371.851305 191.144938 \nL 372.473589 178.929316 \nL 372.562486 179.129779 \nL 372.918077 176.137219 \nL 373.006975 176.72605 \nL 373.095873 174.839662 \nL 373.184771 170.573111 \nL 373.451464 170.28141 \nL 373.540362 169.889486 \nL 373.718157 166.768505 \nL 373.807055 167.817175 \nL 374.162646 164.698049 \nL 374.251544 166.929562 \nL 374.696032 152.962865 \nL 374.78493 154.947349 \nL 375.051623 147.950589 \nL 375.318316 147.744802 \nL 375.407214 147.959545 \nL 375.496112 144.78853 \nL 375.673907 147.091641 \nL 376.029498 152.748128 \nL 376.118396 156.29121 \nL 376.296192 135.988901 \nL 376.562885 135.496715 \nL 376.651783 136.19652 \nL 376.74068 138.054236 \nL 377.362964 118.2977 \nL 377.451862 111.190963 \nL 377.54076 120.396009 \nL 377.807453 123.536125 \nL 377.896351 112.544709 \nL 377.985249 114.380091 \nL 378.163044 119.842798 \nL 378.429737 118.736341 \nL 378.696431 113.40064 \nL 378.785328 108.289924 \nL 379.052021 107.01306 \nL 379.229817 115.522464 \nL 379.318715 115.332663 \nL 379.674306 115.320136 \nL 379.852101 117.825029 \nL 379.940999 123.301614 \nL 380.029897 119.536637 \nL 380.29659 121.103176 \nL 380.385488 124.288012 \nL 380.563283 114.86713 \nL 380.652181 119.217963 \nL 380.918874 123.129753 \nL 381.007772 120.598313 \nL 381.274465 140.672512 \nL 381.541158 134.734279 \nL 381.630056 129.534694 \nL 381.718954 134.449695 \nL 381.896749 120.025408 \nL 382.163442 119.986015 \nL 382.25234 122.411869 \nL 382.341238 128.428475 \nL 382.519033 118.138345 \nL 382.785727 112.138234 \nL 383.05242 118.213542 \nL 383.141318 116.188539 \nL 383.408011 115.255671 \nL 383.496908 113.542089 \nL 383.585806 107.679259 \nL 383.674704 108.164568 \nL 383.763602 111.5312 \nL 384.119193 106.325358 \nL 384.20809 107.106188 \nL 384.385886 86.474255 \nL 384.830375 71.508731 \nL 385.00817 80.806976 \nL 385.363761 68.622517 \nL 385.452659 57.87925 \nL 385.541556 60.459068 \nL 385.630454 60.65589 \nL 385.897147 59.042059 \nL 385.986045 60.61652 \nL 386.252738 41.011478 \nL 386.519432 42.617667 \nL 386.608329 34.414125 \nL 386.875023 50.494505 \nL 387.141716 65.62757 \nL 387.319511 50.798338 \nL 387.497307 55.911744 \nL 387.764 54.55262 \nL 387.852898 57.467836 \nL 387.852898 57.467836 \n\" clip-path=\"url(#p78e3635525)\" style=\"fill: none; stroke: #0000ff; stroke-width: 1.5; stroke-linecap: square\"/>\n   </g>\n   <g id=\"patch_3\">\n    <path d=\"M 46.965625 288.430125 \nL 46.965625 22.318125 \n\" style=\"fill: none; stroke: #000000; stroke-width: 0.8; stroke-linejoin: miter; stroke-linecap: square\"/>\n   </g>\n   <g id=\"patch_4\">\n    <path d=\"M 404.085625 288.430125 \nL 404.085625 22.318125 \n\" style=\"fill: none; stroke: #000000; stroke-width: 0.8; stroke-linejoin: miter; stroke-linecap: square\"/>\n   </g>\n   <g id=\"patch_5\">\n    <path d=\"M 46.965625 288.430125 \nL 404.085625 288.430125 \n\" style=\"fill: none; stroke: #000000; stroke-width: 0.8; stroke-linejoin: miter; stroke-linecap: square\"/>\n   </g>\n   <g id=\"patch_6\">\n    <path d=\"M 46.965625 22.318125 \nL 404.085625 22.318125 \n\" style=\"fill: none; stroke: #000000; stroke-width: 0.8; stroke-linejoin: miter; stroke-linecap: square\"/>\n   </g>\n   <g id=\"text_21\">\n    <!-- Fitted Polynomial Function for NVDA -->\n    <g transform=\"translate(117.41125 16.318125) scale(0.12 -0.12)\">\n     <defs>\n      <path id=\"DejaVuSans-46\" d=\"M 628 4666 \nL 3309 4666 \nL 3309 4134 \nL 1259 4134 \nL 1259 2759 \nL 3109 2759 \nL 3109 2228 \nL 1259 2228 \nL 1259 0 \nL 628 0 \nL 628 4666 \nz\n\" transform=\"scale(0.015625)\"/>\n      <path id=\"DejaVuSans-69\" d=\"M 603 3500 \nL 1178 3500 \nL 1178 0 \nL 603 0 \nL 603 3500 \nz\nM 603 4863 \nL 1178 4863 \nL 1178 4134 \nL 603 4134 \nL 603 4863 \nz\n\" transform=\"scale(0.015625)\"/>\n      <path id=\"DejaVuSans-74\" d=\"M 1172 4494 \nL 1172 3500 \nL 2356 3500 \nL 2356 3053 \nL 1172 3053 \nL 1172 1153 \nQ 1172 725 1289 603 \nQ 1406 481 1766 481 \nL 2356 481 \nL 2356 0 \nL 1766 0 \nQ 1100 0 847 248 \nQ 594 497 594 1153 \nL 594 3053 \nL 172 3053 \nL 172 3500 \nL 594 3500 \nL 594 4494 \nL 1172 4494 \nz\n\" transform=\"scale(0.015625)\"/>\n      <path id=\"DejaVuSans-50\" d=\"M 1259 4147 \nL 1259 2394 \nL 2053 2394 \nQ 2494 2394 2734 2622 \nQ 2975 2850 2975 3272 \nQ 2975 3691 2734 3919 \nQ 2494 4147 2053 4147 \nL 1259 4147 \nz\nM 628 4666 \nL 2053 4666 \nQ 2838 4666 3239 4311 \nQ 3641 3956 3641 3272 \nQ 3641 2581 3239 2228 \nQ 2838 1875 2053 1875 \nL 1259 1875 \nL 1259 0 \nL 628 0 \nL 628 4666 \nz\n\" transform=\"scale(0.015625)\"/>\n      <path id=\"DejaVuSans-79\" d=\"M 2059 -325 \nQ 1816 -950 1584 -1140 \nQ 1353 -1331 966 -1331 \nL 506 -1331 \nL 506 -850 \nL 844 -850 \nQ 1081 -850 1212 -737 \nQ 1344 -625 1503 -206 \nL 1606 56 \nL 191 3500 \nL 800 3500 \nL 1894 763 \nL 2988 3500 \nL 3597 3500 \nL 2059 -325 \nz\n\" transform=\"scale(0.015625)\"/>\n      <path id=\"DejaVuSans-6e\" d=\"M 3513 2113 \nL 3513 0 \nL 2938 0 \nL 2938 2094 \nQ 2938 2591 2744 2837 \nQ 2550 3084 2163 3084 \nQ 1697 3084 1428 2787 \nQ 1159 2491 1159 1978 \nL 1159 0 \nL 581 0 \nL 581 3500 \nL 1159 3500 \nL 1159 2956 \nQ 1366 3272 1645 3428 \nQ 1925 3584 2291 3584 \nQ 2894 3584 3203 3211 \nQ 3513 2838 3513 2113 \nz\n\" transform=\"scale(0.015625)\"/>\n      <path id=\"DejaVuSans-6d\" d=\"M 3328 2828 \nQ 3544 3216 3844 3400 \nQ 4144 3584 4550 3584 \nQ 5097 3584 5394 3201 \nQ 5691 2819 5691 2113 \nL 5691 0 \nL 5113 0 \nL 5113 2094 \nQ 5113 2597 4934 2840 \nQ 4756 3084 4391 3084 \nQ 3944 3084 3684 2787 \nQ 3425 2491 3425 1978 \nL 3425 0 \nL 2847 0 \nL 2847 2094 \nQ 2847 2600 2669 2842 \nQ 2491 3084 2119 3084 \nQ 1678 3084 1418 2786 \nQ 1159 2488 1159 1978 \nL 1159 0 \nL 581 0 \nL 581 3500 \nL 1159 3500 \nL 1159 2956 \nQ 1356 3278 1631 3431 \nQ 1906 3584 2284 3584 \nQ 2666 3584 2933 3390 \nQ 3200 3197 3328 2828 \nz\n\" transform=\"scale(0.015625)\"/>\n      <path id=\"DejaVuSans-61\" d=\"M 2194 1759 \nQ 1497 1759 1228 1600 \nQ 959 1441 959 1056 \nQ 959 750 1161 570 \nQ 1363 391 1709 391 \nQ 2188 391 2477 730 \nQ 2766 1069 2766 1631 \nL 2766 1759 \nL 2194 1759 \nz\nM 3341 1997 \nL 3341 0 \nL 2766 0 \nL 2766 531 \nQ 2569 213 2275 61 \nQ 1981 -91 1556 -91 \nQ 1019 -91 701 211 \nQ 384 513 384 1019 \nQ 384 1609 779 1909 \nQ 1175 2209 1959 2209 \nL 2766 2209 \nL 2766 2266 \nQ 2766 2663 2505 2880 \nQ 2244 3097 1772 3097 \nQ 1472 3097 1187 3025 \nQ 903 2953 641 2809 \nL 641 3341 \nQ 956 3463 1253 3523 \nQ 1550 3584 1831 3584 \nQ 2591 3584 2966 3190 \nQ 3341 2797 3341 1997 \nz\n\" transform=\"scale(0.015625)\"/>\n      <path id=\"DejaVuSans-75\" d=\"M 544 1381 \nL 544 3500 \nL 1119 3500 \nL 1119 1403 \nQ 1119 906 1312 657 \nQ 1506 409 1894 409 \nQ 2359 409 2629 706 \nQ 2900 1003 2900 1516 \nL 2900 3500 \nL 3475 3500 \nL 3475 0 \nL 2900 0 \nL 2900 538 \nQ 2691 219 2414 64 \nQ 2138 -91 1772 -91 \nQ 1169 -91 856 284 \nQ 544 659 544 1381 \nz\nM 1991 3584 \nL 1991 3584 \nz\n\" transform=\"scale(0.015625)\"/>\n      <path id=\"DejaVuSans-63\" d=\"M 3122 3366 \nL 3122 2828 \nQ 2878 2963 2633 3030 \nQ 2388 3097 2138 3097 \nQ 1578 3097 1268 2742 \nQ 959 2388 959 1747 \nQ 959 1106 1268 751 \nQ 1578 397 2138 397 \nQ 2388 397 2633 464 \nQ 2878 531 3122 666 \nL 3122 134 \nQ 2881 22 2623 -34 \nQ 2366 -91 2075 -91 \nQ 1284 -91 818 406 \nQ 353 903 353 1747 \nQ 353 2603 823 3093 \nQ 1294 3584 2113 3584 \nQ 2378 3584 2631 3529 \nQ 2884 3475 3122 3366 \nz\n\" transform=\"scale(0.015625)\"/>\n      <path id=\"DejaVuSans-66\" d=\"M 2375 4863 \nL 2375 4384 \nL 1825 4384 \nQ 1516 4384 1395 4259 \nQ 1275 4134 1275 3809 \nL 1275 3500 \nL 2222 3500 \nL 2222 3053 \nL 1275 3053 \nL 1275 0 \nL 697 0 \nL 697 3053 \nL 147 3053 \nL 147 3500 \nL 697 3500 \nL 697 3744 \nQ 697 4328 969 4595 \nQ 1241 4863 1831 4863 \nL 2375 4863 \nz\n\" transform=\"scale(0.015625)\"/>\n      <path id=\"DejaVuSans-72\" d=\"M 2631 2963 \nQ 2534 3019 2420 3045 \nQ 2306 3072 2169 3072 \nQ 1681 3072 1420 2755 \nQ 1159 2438 1159 1844 \nL 1159 0 \nL 581 0 \nL 581 3500 \nL 1159 3500 \nL 1159 2956 \nQ 1341 3275 1631 3429 \nQ 1922 3584 2338 3584 \nQ 2397 3584 2469 3576 \nQ 2541 3569 2628 3553 \nL 2631 2963 \nz\n\" transform=\"scale(0.015625)\"/>\n      <path id=\"DejaVuSans-4e\" d=\"M 628 4666 \nL 1478 4666 \nL 3547 763 \nL 3547 4666 \nL 4159 4666 \nL 4159 0 \nL 3309 0 \nL 1241 3903 \nL 1241 0 \nL 628 0 \nL 628 4666 \nz\n\" transform=\"scale(0.015625)\"/>\n      <path id=\"DejaVuSans-56\" d=\"M 1831 0 \nL 50 4666 \nL 709 4666 \nL 2188 738 \nL 3669 4666 \nL 4325 4666 \nL 2547 0 \nL 1831 0 \nz\n\" transform=\"scale(0.015625)\"/>\n      <path id=\"DejaVuSans-44\" d=\"M 1259 4147 \nL 1259 519 \nL 2022 519 \nQ 2988 519 3436 956 \nQ 3884 1394 3884 2338 \nQ 3884 3275 3436 3711 \nQ 2988 4147 2022 4147 \nL 1259 4147 \nz\nM 628 4666 \nL 1925 4666 \nQ 3281 4666 3915 4102 \nQ 4550 3538 4550 2338 \nQ 4550 1131 3912 565 \nQ 3275 0 1925 0 \nL 628 0 \nL 628 4666 \nz\n\" transform=\"scale(0.015625)\"/>\n     </defs>\n     <use xlink:href=\"#DejaVuSans-46\"/>\n     <use xlink:href=\"#DejaVuSans-69\" x=\"50.269531\"/>\n     <use xlink:href=\"#DejaVuSans-74\" x=\"78.052734\"/>\n     <use xlink:href=\"#DejaVuSans-74\" x=\"117.261719\"/>\n     <use xlink:href=\"#DejaVuSans-65\" x=\"156.470703\"/>\n     <use xlink:href=\"#DejaVuSans-64\" x=\"217.994141\"/>\n     <use xlink:href=\"#DejaVuSans-20\" x=\"281.470703\"/>\n     <use xlink:href=\"#DejaVuSans-50\" x=\"313.257812\"/>\n     <use xlink:href=\"#DejaVuSans-6f\" x=\"369.935547\"/>\n     <use xlink:href=\"#DejaVuSans-6c\" x=\"431.117188\"/>\n     <use xlink:href=\"#DejaVuSans-79\" x=\"458.900391\"/>\n     <use xlink:href=\"#DejaVuSans-6e\" x=\"518.080078\"/>\n     <use xlink:href=\"#DejaVuSans-6f\" x=\"581.458984\"/>\n     <use xlink:href=\"#DejaVuSans-6d\" x=\"642.640625\"/>\n     <use xlink:href=\"#DejaVuSans-69\" x=\"740.052734\"/>\n     <use xlink:href=\"#DejaVuSans-61\" x=\"767.835938\"/>\n     <use xlink:href=\"#DejaVuSans-6c\" x=\"829.115234\"/>\n     <use xlink:href=\"#DejaVuSans-20\" x=\"856.898438\"/>\n     <use xlink:href=\"#DejaVuSans-46\" x=\"888.685547\"/>\n     <use xlink:href=\"#DejaVuSans-75\" x=\"940.705078\"/>\n     <use xlink:href=\"#DejaVuSans-6e\" x=\"1004.083984\"/>\n     <use xlink:href=\"#DejaVuSans-63\" x=\"1067.462891\"/>\n     <use xlink:href=\"#DejaVuSans-74\" x=\"1122.443359\"/>\n     <use xlink:href=\"#DejaVuSans-69\" x=\"1161.652344\"/>\n     <use xlink:href=\"#DejaVuSans-6f\" x=\"1189.435547\"/>\n     <use xlink:href=\"#DejaVuSans-6e\" x=\"1250.617188\"/>\n     <use xlink:href=\"#DejaVuSans-20\" x=\"1313.996094\"/>\n     <use xlink:href=\"#DejaVuSans-66\" x=\"1345.783203\"/>\n     <use xlink:href=\"#DejaVuSans-6f\" x=\"1380.988281\"/>\n     <use xlink:href=\"#DejaVuSans-72\" x=\"1442.169922\"/>\n     <use xlink:href=\"#DejaVuSans-20\" x=\"1483.283203\"/>\n     <use xlink:href=\"#DejaVuSans-4e\" x=\"1515.070312\"/>\n     <use xlink:href=\"#DejaVuSans-56\" x=\"1589.875\"/>\n     <use xlink:href=\"#DejaVuSans-44\" x=\"1658.283203\"/>\n     <use xlink:href=\"#DejaVuSans-41\" x=\"1733.535156\"/>\n    </g>\n   </g>\n  </g>\n </g>\n <defs>\n  <clipPath id=\"p78e3635525\">\n   <rect x=\"46.965625\" y=\"22.318125\" width=\"357.12\" height=\"266.112\"/>\n  </clipPath>\n </defs>\n</svg>\n"
          },
          "metadata": {}
        }
      ]
    },
    {
      "cell_type": "code",
      "source": [],
      "metadata": {
        "id": "d1ZWQyOx6JXy"
      },
      "execution_count": 87,
      "outputs": []
    }
  ]
}